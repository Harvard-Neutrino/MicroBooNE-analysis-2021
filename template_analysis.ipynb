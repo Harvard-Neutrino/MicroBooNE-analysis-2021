{
 "cells": [
  {
   "cell_type": "markdown",
   "id": "checked-traffic",
   "metadata": {},
   "source": [
    "## Main template analysis\n",
    "\n",
    "\n",
    "This notebook will generate model-independent MiniBooNE templates.\n",
    "\n",
    "We then unfold them using our unfolder and plot a few examples against MicroBooNE (inclusive) data. \n",
    "\n",
    "Finally, we select templates with a given $p_{\\rm val}^{\\rm MB} > (80, 10, 1)\\%$, and plot them according to their MicroBooNE chi2 and the total number of MiniBooNE events."
   ]
  },
  {
   "cell_type": "code",
   "execution_count": 1,
   "id": "virtual-removal",
   "metadata": {},
   "outputs": [],
   "source": [
    "%load_ext autoreload\n",
    "%autoreload 2\n",
    "\n",
    "import numpy as np\n",
    "import pandas as pd\n",
    "import scipy \n",
    "\n",
    "from MicroTools import unfolder\n",
    "from MicroTools.TemplateTools import mcmc_signal\n",
    "from MicroTools.TemplateTools import miniboone_fit as mbfit\n",
    "\n",
    "from MicroTools.InclusiveTools import inclusive\n",
    "\n",
    "\n",
    "from MicroTools.TemplateTools import template_analysis as templ\n",
    "\n",
    "from MicroTools.plot_tools import *\n",
    "\n",
    "PATH_MCMC_CHAINS = 'MicroTools/mcmc_results'\n",
    "PATH_PLOTS = 'plots/'"
   ]
  },
  {
   "cell_type": "markdown",
   "id": "mysterious-bermuda",
   "metadata": {},
   "source": [
    "### generate model-independent templates"
   ]
  },
  {
   "cell_type": "code",
   "execution_count": 2,
   "id": "impressed-macro",
   "metadata": {},
   "outputs": [],
   "source": [
    "example = templ.Templates()\n",
    "\n",
    "example.load_templates()"
   ]
  },
  {
   "cell_type": "markdown",
   "id": "registered-variation",
   "metadata": {},
   "source": [
    "#### Get microBooNE templates through unfolding"
   ]
  },
  {
   "cell_type": "code",
   "execution_count": 3,
   "id": "disciplinary-moore",
   "metadata": {},
   "outputs": [],
   "source": [
    "example.unfold(analysis='1eX', remove_high_energy=False, unfold=True)"
   ]
  },
  {
   "cell_type": "markdown",
   "id": "economic-professor",
   "metadata": {},
   "source": [
    "#### Calculate chi2s"
   ]
  },
  {
   "cell_type": "code",
   "execution_count": 4,
   "id": "documented-blend",
   "metadata": {},
   "outputs": [
    {
     "ename": "KeyboardInterrupt",
     "evalue": "",
     "output_type": "error",
     "traceback": [
      "\u001b[0;31m---------------------------------------------------------------------------\u001b[0m",
      "\u001b[0;31mKeyboardInterrupt\u001b[0m                         Traceback (most recent call last)",
      "\u001b[0;32m<ipython-input-4-c318e25dc015>\u001b[0m in \u001b[0;36m<module>\u001b[0;34m\u001b[0m\n\u001b[0;32m----> 1\u001b[0;31m \u001b[0mexample\u001b[0m\u001b[0;34m.\u001b[0m\u001b[0mcompute_chi2s\u001b[0m\u001b[0;34m(\u001b[0m\u001b[0;34m)\u001b[0m\u001b[0;34m\u001b[0m\u001b[0;34m\u001b[0m\u001b[0m\n\u001b[0m",
      "\u001b[0;32m~/Repos/MicroBooNE-analysis-2021/MicroTools/TemplateTools/template_analysis.py\u001b[0m in \u001b[0;36mcompute_chi2s\u001b[0;34m(self)\u001b[0m\n\u001b[1;32m    111\u001b[0m         \u001b[0mself\u001b[0m\u001b[0;34m.\u001b[0m\u001b[0mmb_chi2s\u001b[0m \u001b[0;34m=\u001b[0m \u001b[0mnp\u001b[0m\u001b[0;34m.\u001b[0m\u001b[0mempty\u001b[0m\u001b[0;34m(\u001b[0m\u001b[0;36m0\u001b[0m\u001b[0;34m)\u001b[0m\u001b[0;34m\u001b[0m\u001b[0;34m\u001b[0m\u001b[0m\n\u001b[1;32m    112\u001b[0m         \u001b[0;32mfor\u001b[0m \u001b[0mmb_template\u001b[0m\u001b[0;34m,\u001b[0m \u001b[0mmub_template\u001b[0m \u001b[0;32min\u001b[0m \u001b[0mzip\u001b[0m\u001b[0;34m(\u001b[0m\u001b[0mself\u001b[0m\u001b[0;34m.\u001b[0m\u001b[0mmcmc_chain\u001b[0m\u001b[0;34m,\u001b[0m \u001b[0mself\u001b[0m\u001b[0;34m.\u001b[0m\u001b[0mmicro_templates\u001b[0m\u001b[0;34m)\u001b[0m\u001b[0;34m:\u001b[0m\u001b[0;34m\u001b[0m\u001b[0;34m\u001b[0m\u001b[0m\n\u001b[0;32m--> 113\u001b[0;31m             \u001b[0mself\u001b[0m\u001b[0;34m.\u001b[0m\u001b[0mmb_x\u001b[0m \u001b[0;34m=\u001b[0m \u001b[0mnp\u001b[0m\u001b[0;34m.\u001b[0m\u001b[0mappend\u001b[0m\u001b[0;34m(\u001b[0m\u001b[0mself\u001b[0m\u001b[0;34m.\u001b[0m\u001b[0mmb_x\u001b[0m\u001b[0;34m,\u001b[0m \u001b[0mnp\u001b[0m\u001b[0;34m.\u001b[0m\u001b[0msum\u001b[0m\u001b[0;34m(\u001b[0m\u001b[0mmb_template\u001b[0m\u001b[0;34m)\u001b[0m\u001b[0;34m/\u001b[0m\u001b[0mself\u001b[0m\u001b[0;34m.\u001b[0m\u001b[0mnominal_nevents\u001b[0m\u001b[0;34m)\u001b[0m\u001b[0;34m\u001b[0m\u001b[0;34m\u001b[0m\u001b[0m\n\u001b[0m\u001b[1;32m    114\u001b[0m             \u001b[0mself\u001b[0m\u001b[0;34m.\u001b[0m\u001b[0mmb_chi2s\u001b[0m \u001b[0;34m=\u001b[0m \u001b[0mnp\u001b[0m\u001b[0;34m.\u001b[0m\u001b[0mappend\u001b[0m\u001b[0;34m(\u001b[0m\u001b[0mself\u001b[0m\u001b[0;34m.\u001b[0m\u001b[0mmb_chi2s\u001b[0m\u001b[0;34m,\u001b[0m \u001b[0mmbfit\u001b[0m\u001b[0;34m.\u001b[0m\u001b[0mCalculateChi2SignalExpectations\u001b[0m\u001b[0;34m(\u001b[0m\u001b[0mmb_template\u001b[0m\u001b[0;34m)\u001b[0m\u001b[0;34m)\u001b[0m\u001b[0;34m\u001b[0m\u001b[0;34m\u001b[0m\u001b[0m\n\u001b[1;32m    115\u001b[0m \u001b[0;34m\u001b[0m\u001b[0m\n",
      "\u001b[0;31mKeyboardInterrupt\u001b[0m: "
     ]
    }
   ],
   "source": [
    "example.compute_chi2s()"
   ]
  },
  {
   "cell_type": "markdown",
   "id": "wicked-remains",
   "metadata": {},
   "source": [
    "#### MiniBooNE p-value"
   ]
  },
  {
   "cell_type": "code",
   "execution_count": null,
   "id": "ruled-peter",
   "metadata": {},
   "outputs": [],
   "source": [
    "example.compute_MB_pval(ndf=4.7)"
   ]
  },
  {
   "cell_type": "markdown",
   "id": "automatic-norway",
   "metadata": {},
   "source": [
    "#### Null hypothesis"
   ]
  },
  {
   "cell_type": "code",
   "execution_count": 106,
   "id": "equivalent-participant",
   "metadata": {},
   "outputs": [],
   "source": [
    "mub_chi2_null_hypothesis = cern.Chi2_Inclusive(np.zeros(25))"
   ]
  },
  {
   "cell_type": "code",
   "execution_count": 107,
   "id": "deluxe-ethiopia",
   "metadata": {},
   "outputs": [],
   "source": [
    "# np.save(\"PyModules/HarvardPerimeter/data/mubMCMC_chi2s.dat\", np.array([mub_x, mub_chi2s, mb_x, mb_chi2s]))\n",
    "# np.save(\"PyModules/HarvardPerimeter/data/mubMCMC_miniboone_templates.dat\", mb_templates)\n",
    "# np.save(\"PyModules/HarvardPerimeter/data/mubMCMC_microboone_templates.dat\", mub_templates)"
   ]
  },
  {
   "cell_type": "code",
   "execution_count": 123,
   "id": "republican-jamaica",
   "metadata": {
    "scrolled": false
   },
   "outputs": [
    {
     "data": {
      "text/plain": [
       "<matplotlib.legend.Legend at 0x13b1436d0>"
      ]
     },
     "execution_count": 123,
     "metadata": {},
     "output_type": "execute_result"
    },
    {
     "data": {
      "image/png": "[encoded data removed]",
      "text/plain": [
       "<Figure size 648x216 with 3 Axes>"
      ]
     },
     "metadata": {
      "needs_background": "light"
     },
     "output_type": "display_data"
    }
   ],
   "source": [
    "axs = (plt.figure(constrained_layout=True, figsize=(9,3)).subplots(1, 3))\n",
    "args = {'bins':50, 'density': True, 'facecolor': 'None', 'lw': 0.5}\n",
    "_ = axs[0].hist(example.signal_strength, edgecolor='purple', range=(0,3), label=f'MiniBooNE', **args)\n",
    "_ = axs[0].hist(example.mub_signal_strength, edgecolor='dodgerblue', range=(0,3), label=f'MicroBooNE', **args)\n",
    "axs[0].set_xlabel(r\"signal strength $N / N_{\\rm LEE}$\")\n",
    "axs[0].legend()\n",
    "\n",
    "_ = axs[1].hist(example.avg_energy, edgecolor='purple', range=(100,600), label=f'MiniBooNE', **args)\n",
    "_ = axs[1].hist(example.mub_avg_energy, edgecolor='dodgerblue', range=(100,600), label=f'MicroBooNE', **args)\n",
    "axs[1].set_xlabel(r\"average $E_{\\nu}^{\\rm reco}$ / MeV\")\n",
    "axs[1].legend()\n",
    "\n",
    "_ = axs[2].hist(example.mb_chi2s, edgecolor='purple', range=(0,60), label=f'MiniBooNE',**args)\n",
    "_ = axs[2].hist(example.mub_chi2s, edgecolor='dodgerblue', range=(0,60), label=f'MicroBooNE',**args)\n",
    "axs[2].set_xlabel(r\"$\\chi^2$\")\n",
    "axs[2].legend()"
   ]
  },
  {
   "cell_type": "code",
   "execution_count": 13,
   "id": "minimal-cartoon",
   "metadata": {},
   "outputs": [],
   "source": [
    "\n",
    "# mb_template_worst=mb_templates[pval_1 & (mb_x>0.6)][np.argmin(mub_chi2s[pval_1 & (mb_x>0.6)])]\n",
    "mb_template_worst = [94.40563491,41.31592711,44.36387293,29.99242961, -6.79081795,19.26734292,-8.77917357, -6.88138706, 7.63200631, -9.47116872, -22.11263405]\n",
    "mub_template_worst=np.append(0.0, example.converter.miniToMicro(mb_template_worst))\n",
    "\n",
    "# mb_template_best=mb_templates[pval_1 & (mb_x<1.3)][np.argmax(mub_chi2s[pval_1 & (mb_x<1.3)])]\n",
    "mb_template_best=[170.56228436, 84.38734816, 91.74304699, 49.08114012, 19.81931372, 41.51597723, 14.62351973, 12.99344466, 24.8044534, 9.92501774, 7.46580514]\n",
    "mub_template_best=np.append(0.0, example.converter.miniToMicro(mb_template_best))\n"
   ]
  },
  {
   "cell_type": "code",
   "execution_count": 14,
   "id": "seventh-prize",
   "metadata": {},
   "outputs": [
    {
     "name": "stdout",
     "output_type": "stream",
     "text": [
      "x = 0.5081723123333333\n",
      "x = 1.463670420138889\n"
     ]
    }
   ],
   "source": [
    "print(f\"x = {np.sum(mb_template_worst)/360}\")\n",
    "print(f\"x = {np.sum(mb_template_best)/360}\")"
   ]
  },
  {
   "cell_type": "code",
   "execution_count": 70,
   "id": "grand-writing",
   "metadata": {},
   "outputs": [],
   "source": [
    "from MicroTools.plot_tools import *"
   ]
  },
  {
   "cell_type": "code",
   "execution_count": 16,
   "id": "assured-gauge",
   "metadata": {},
   "outputs": [],
   "source": [
    "# # Our chi2\n",
    "# micro_nominal_template = get_micro_templates(np.array([mbfit.mb_nominal_excess]))\n",
    "# x_nominal, chi2_nominal = get_microboone_chi2s_in_x(micro_nominal_template, Npoints_for_x=100)\n",
    "# ax.plot(x_nominal, chi2_nominal[0] - mub_chi2_null_hypothesis, color='black', lw=1.5, label=r'Our $\\Delta \\chi^2_{\\rm nominal}$', zorder=5)\n",
    "\n",
    "# # Official\n",
    "# df=pd.read_csv(\"kk/InclusiveChannel/muB_1eX_eLEE_Chi2_Official.csv\", sep=',', header=None)\n",
    "# x_official, chi2official = df.values.T[0], df.values.T[1] \n",
    "# ax.plot(x_official, chi2official, c='black', dashes=(3,1), label=r'\\noindent MicroBooNE $\\Delta \\chi^2_{\\rm nominal}$\\\\\\ \\,', zorder=5)\n"
   ]
  },
  {
   "cell_type": "code",
   "execution_count": 127,
   "id": "neither-collar",
   "metadata": {},
   "outputs": [
    {
     "data": {
      "image/png": "[encoded data removed]",
      "text/plain": [
       "<Figure size 319.68x221.055 with 1 Axes>"
      ]
     },
     "metadata": {
      "needs_background": "light"
     },
     "output_type": "display_data"
    }
   ],
   "source": [
    "fig, ax = std_fig(ax_form=[0.12,0.16,0.81,0.8])\n",
    "\n",
    "# plot the vertical region\n",
    "plot_MB_vertical_region(ax)\n",
    "\n",
    "\n",
    "# Banana plot\n",
    "color1=(0.6,0.61,0.97)\n",
    "# color1='green'\n",
    "color2=(0.60,0.95,0.48)\n",
    "# color2='yellow'\n",
    "color3=(0.95,0.6,0.6)\n",
    "# color3='blue'\n",
    "\n",
    "ndf = 4.7\n",
    "pvals = [0.8, 0.1, 0.01]\n",
    "masks = [example.mb_pval > pvals[i] for i in range(len(pvals))]\n",
    "\n",
    "colors=[color1, color2, color3]\n",
    "legends = [r'$ p_{\\rm val}^{\\rm \\footnotesize MB} =  80\\%$',\n",
    "            r'$ p_{\\rm val}^{\\rm \\footnotesize MB} = 10\\%$',\n",
    "          r'$ p_{\\rm val}^{\\rm \\footnotesize MB} = 1\\%$']\n",
    "\n",
    "def plot_banana(ax, x_vals, chi2_vals, mask, color='black'):\n",
    "    ax.scatter(x_vals[mask], chi2_vals[mask] - mub_chi2_null_hypothesis,\n",
    "               s=2, color=color, alpha=1, zorder=3, rasterized=True)\n",
    "handles =[]\n",
    "for i in [2,1,0]:\n",
    "    plot_banana(ax, example.mb_x, example.mub_chi2s, mask=masks[i], color=colors[i])\n",
    "    handles.append(mpatches.Patch(facecolor=colors[i], edgecolor='black', lw=0.5, label=legends[i]))\n",
    "\n",
    "# Horizontal lines\n",
    "dchi2_thresholds=[1,4,9,16]    \n",
    "for i in range(4):\n",
    "#     ax.annotate(fr\"$\\Delta \\chi^2_{{\\mu B}} = $ {dchi2_thresholds[i]:.3g}\", fontsize=8, xy=(0.05,0.5+dchi2_thresholds[i]), xycoords='data', zorder=12)\n",
    "    ax.hlines(dchi2_thresholds[i], 0,3, colors='black', zorder=10, linewidths=[0.75], linestyles=['--'])\n",
    "ax.legend(handles=handles[::-1], loc='upper left', fontsize=9)\n",
    "\n",
    "\n",
    "ax.plot([np.sum(mb_template_worst)/example.nominal_nevents],\n",
    "            [cern.Chi2_Inclusive(mub_template_worst)-mub_chi2_null_hypothesis], markersize=8, color='red', marker='*',zorder=100)\n",
    "ax.annotate(r'1',\n",
    "            color='red',\n",
    "            xy=(np.sum(mb_template_worst)/example.nominal_nevents,\n",
    "            cern.Chi2_Inclusive(mub_template_worst)-20), \n",
    "            xycoords='data',fontsize=25)\n",
    "\n",
    "ax.plot([np.sum(mb_template_best)/example.nominal_nevents],\n",
    "            [cern.Chi2_Inclusive(mub_template_best)-mub_chi2_null_hypothesis], markersize=8, color='red', marker='*',zorder=100)\n",
    "\n",
    "\n",
    "ax.set_xlim(0,2)\n",
    "ax.set_ylim(0,30)\n",
    "\n",
    "ax.xaxis.set_major_locator(MultipleLocator(0.5))\n",
    "ax.xaxis.set_minor_locator(MultipleLocator(0.1))\n",
    "\n",
    "ax.yaxis.set_major_locator(MultipleLocator(5))\n",
    "ax.yaxis.set_minor_locator(MultipleLocator(1))\n",
    "\n",
    "ax.set_xlabel(r\"$N_{\\rm events}(\\vec{\\theta})/N_{\\rm events}^{\\rm nominal}$\")\n",
    "ax.set_ylabel(r\"$\\Delta \\chi^2_{\\mu B}$\")\n",
    "ax.annotate(r\"Arg\\\"uelles\\,et.\\,al.\\,2021\", fontsize=8, xy=(0.7,1.02), xycoords='axes fraction')\n",
    "fig.savefig(f\"{PATH_PLOTS}/Fig_2.png\", dpi=400)\n",
    "fig.savefig(f\"{PATH_PLOTS}/Fig_2.pdf\", dpi=400)\n"
   ]
  },
  {
   "cell_type": "markdown",
   "id": "upset-finance",
   "metadata": {},
   "source": [
    "### Plot the signal strengths"
   ]
  },
  {
   "cell_type": "code",
   "execution_count": 136,
   "id": "parliamentary-mechanism",
   "metadata": {},
   "outputs": [
    {
     "data": {
      "image/png": "[encoded data removed]",
      "text/plain": [
       "<Figure size 319.68x221.055 with 1 Axes>"
      ]
     },
     "metadata": {
      "needs_background": "light"
     },
     "output_type": "display_data"
    }
   ],
   "source": [
    "fig, ax = std_fig(ax_form=[0.12,0.16,0.81,0.8])\n",
    "   \n",
    "def plot_banana_x(ax, x_vals_mb, mub_templates, mask, color='black'):\n",
    "    x_mub = np.sum(mub_templates, axis=1)/38.8\n",
    "    ax.scatter(x_vals_mb[mask], x_mub[mask], s=2.5, color=color, alpha=1, zorder=3, rasterized=True)\n",
    "    \n",
    "    \n",
    "handles =[]\n",
    "for i in [2,1,0]:\n",
    "    plot_banana_x(ax, example.mb_x, example.micro_templates, mask=masks[i], color=colors[i])\n",
    "    handles.append(mpatches.Patch(facecolor=colors[i], edgecolor='black', lw=0.5, label=legends[i]))\n",
    "ax.legend(handles=handles, loc='upper left', fontsize=9)\n",
    "# plot_banana(ax, mub_x*360/381.2, mub_chi2s, mask=np.full(len(mub_x),True), color='black')\n",
    "\n",
    "\n",
    "ax.set_xlim(0,1.8)\n",
    "ax.set_ylim(0,2)\n",
    "\n",
    "# ax.xaxis.set_major_locator(MultipleLocator(0.5))\n",
    "# ax.xaxis.set_minor_locator(MultipleLocator(0.1))\n",
    "\n",
    "# ax.yaxis.set_major_locator(MultipleLocator(5))\n",
    "# ax.yaxis.set_minor_locator(MultipleLocator(1))\n",
    "\n",
    "\n",
    "# ax.hlines([16,9,4,1], 0,3, colors=colors, zorder=10)\n",
    "plt.plot(example.mb_x, example.mb_x)\n",
    "ax.set_xlabel(r\"signal strength miniboone\")\n",
    "ax.set_ylabel(r\"signal strength microboone\")\n",
    "ax.annotate(r\"Arg\\\"uelles\\,et.\\,al.\\,2021\", fontsize=8, xy=(0.7,1.02), xycoords='axes fraction')\n",
    "fig.savefig(f\"{PATH_PLOTS}/x_vs_x.png\", dpi=400)\n",
    "fig.savefig(f\"{PATH_PLOTS}/x_vs_x.pdf\", dpi=400)\n"
   ]
  },
  {
   "cell_type": "markdown",
   "id": "reported-pressing",
   "metadata": {},
   "source": [
    "# Figure 1"
   ]
  },
  {
   "cell_type": "code",
   "execution_count": 137,
   "id": "adjusted-decade",
   "metadata": {},
   "outputs": [],
   "source": [
    "# settings for Fig. 1\n",
    "TOTAL_RATE = False\n",
    "INCLUDE_MB_LAST_BIN = False\n",
    "STACKED = False\n",
    "PLOT_FAMILY=False\n",
    "colormap=cm.Blues\n",
    "TEMP1_COLOR = 'deeppink'\n",
    "TEMP2_COLOR = 'dodgerblue'"
   ]
  },
  {
   "cell_type": "code",
   "execution_count": 139,
   "id": "acting-hotel",
   "metadata": {},
   "outputs": [
    {
     "ename": "NameError",
     "evalue": "name 'plot_tools' is not defined",
     "output_type": "error",
     "traceback": [
      "\u001b[0;31m---------------------------------------------------------------------------\u001b[0m",
      "\u001b[0;31mNameError\u001b[0m                                 Traceback (most recent call last)",
      "\u001b[0;32m<ipython-input-139-4da65c39d8fd>\u001b[0m in \u001b[0;36m<module>\u001b[0;34m\u001b[0m\n\u001b[1;32m     12\u001b[0m \u001b[0;34m\u001b[0m\u001b[0m\n\u001b[1;32m     13\u001b[0m \u001b[0;31m# plot data\u001b[0m\u001b[0;34m\u001b[0m\u001b[0;34m\u001b[0m\u001b[0m\n\u001b[0;32m---> 14\u001b[0;31m plot_tools.data_plot(ax1, \n\u001b[0m\u001b[1;32m     15\u001b[0m           \u001b[0mX\u001b[0m\u001b[0;34m=\u001b[0m\u001b[0mmbfit\u001b[0m\u001b[0;34m.\u001b[0m\u001b[0mbin_centers\u001b[0m\u001b[0;34m/\u001b[0m\u001b[0;36m1e3\u001b[0m\u001b[0;34m,\u001b[0m\u001b[0;34m\u001b[0m\u001b[0;34m\u001b[0m\u001b[0m\n\u001b[1;32m     16\u001b[0m           \u001b[0mY\u001b[0m\u001b[0;34m=\u001b[0m\u001b[0;34m(\u001b[0m\u001b[0mmbfit\u001b[0m\u001b[0;34m.\u001b[0m\u001b[0mmb_nue_analysis_data\u001b[0m\u001b[0;34m)\u001b[0m\u001b[0;34m*\u001b[0m\u001b[0munits\u001b[0m\u001b[0;34m,\u001b[0m\u001b[0;34m\u001b[0m\u001b[0;34m\u001b[0m\u001b[0m\n",
      "\u001b[0;31mNameError\u001b[0m: name 'plot_tools' is not defined"
     ]
    },
    {
     "data": {
      "image/png": "[encoded data removed]",
      "text/plain": [
       "<Figure size 276.48x293.76 with 2 Axes>"
      ]
     },
     "metadata": {
      "needs_background": "light"
     },
     "output_type": "display_data"
    }
   ],
   "source": [
    "fig, ax1, ax2 = double_axes_fig(height=0.33, gap=0.17, fig_size=(3.2*1.2,3.4*1.2))\n",
    "\n",
    "######################################\n",
    "# MiniBooNE \n",
    "if TOTAL_RATE:\n",
    "    units= 1\n",
    "    ax1.set_ylabel(r\"Events\")#/MeV\")\n",
    "else:\n",
    "    units = 1/mbfit.bin_width\n",
    "    ax1.set_ylabel(r\"Events/MeV\")\n",
    "\n",
    "\n",
    "# plot data\n",
    "plot_tools.data_plot(ax1, \n",
    "          X=mbfit.bin_centers/1e3,\n",
    "          Y=(mbfit.mb_nue_analysis_data)*units, \n",
    "          xerr=np.diff(mbfit.bin_edges)/2/1e3, \n",
    "          yerr=np.sqrt(mbfit.mb_nue_analysis_data)*units,\n",
    "          zorder=1)\n",
    "\n",
    "ax1.hist(mbfit.bin_centers/1e3,\n",
    "     weights=mbfit.mb_nue_analysis_predicted_background*units,\n",
    "     bins=mbfit.bin_edges/1e3, \n",
    "     lw = 1, \n",
    "         alpha=0.5,\n",
    "    facecolor=\"#beaed4\",#(0.8,0.33,0.33),\n",
    "     label = \"backgrounds\")    \n",
    "\n",
    "plot_tools.step_plot(ax1,\n",
    "              x=mbfit.bin_edges[:-1]/1e3,\n",
    "              y=mbfit.mb_nue_analysis_predicted_background*units,\n",
    "              color='black',  \n",
    "              lw=1,\n",
    "              label=\"\")\n",
    "\n",
    "if PLOT_FAMILY:\n",
    "    ###\n",
    "    # Family of templates\n",
    "    templates_MB = test_templates_norm\n",
    "    n= len(templates_MB)\n",
    "    rand_indices = np.random.choice(len(templates_MB), n)\n",
    "\n",
    "    templates_muB = test_micro_templates_norm\n",
    "    micro_rand_indices = np.random.choice(len(templates_muB), n)\n",
    "\n",
    "    # plot a few examples\n",
    "    for i in rand_indices:\n",
    "        c = colormap( test_pval_free[i]/np.max(test_pval_free) )\n",
    "        plot_tools.step_plot(ax1,\n",
    "                      x=mbfit.bin_edges[:-1]/1e3,\n",
    "                      y=(templates_MB[i]+0*mbfit.mb_nue_analysis_predicted_background)*units,\n",
    "                      color=c,  lw=0.1,\n",
    "                      label=\"\")\n",
    "\n",
    "    \n",
    "MB_LEE = mbfit.mb_nominal_excess\n",
    "plot_tools.step_plot(ax1, \n",
    "              x=mbfit.bin_edges[:-1]/1e3,\n",
    "              y=(MB_LEE+ STACKED*mbfit.mb_nue_analysis_predicted_background)*units,\n",
    "              color='black',\n",
    "              label=r'nominal')\n",
    "\n",
    "\n",
    "plot_tools.step_plot(ax1,\n",
    "              x=mbfit.bin_edges[:-1]/1e3,\n",
    "              y=(np.clip(mb_template_worst, 0, np.inf) + STACKED*mbfit.mb_nue_analysis_predicted_background) *units,\n",
    "              color=TEMP1_COLOR,  \n",
    "              lw=1.5,\n",
    "              label=\"template 1\")\n",
    "\n",
    "\n",
    "plot_tools.step_plot(ax1,\n",
    "              x=mbfit.bin_edges[:-1]/1e3,\n",
    "              y=(np.clip(mb_template_best, 0, np.inf) + STACKED*mbfit.mb_nue_analysis_predicted_background) *units,\n",
    "              color=TEMP2_COLOR,  \n",
    "              lw=1.5,\n",
    "              label=\"template 2\")\n",
    "\n",
    "# # plot sterile\n",
    "# MiniBooNE event rates\n",
    "plot_tools.step_plot(ax1, \n",
    "              x=mbfit.bin_edges[:-1]/1e3,\n",
    "              y=(mbfit.mb_sterile_best_fit+STACKED*mbfit.mb_nue_analysis_predicted_background)*units,\n",
    "              color='black',\n",
    "                dashes=(1,1),\n",
    "              label=r'3+1 best-fit')\n",
    "\n",
    "\n",
    "\n",
    "ax1.legend(fontsize=8, markerfirst=False, ncol=2)\n",
    "ax1.annotate(text=r'\\textbf{MiniBooNE 2018}', xy=(0.0,1.05), xycoords='axes fraction', fontsize=8)\n",
    "ax1.set_xlabel(r\"Reconstructed $E_\\nu^{\\rm QE}$ (GeV)\", fontsize=9, labelpad=2.5)\n",
    "if INCLUDE_MB_LAST_BIN:\n",
    "    ax1.set_xticks([0.2,0.5,1,1.5,2,2.5,3])\n",
    "    ax1.set_xlim(0.2,3)\n",
    "else:\n",
    "    ax1.set_xticks([0.2,0.4,0.6,0.8,1,1.2,1.4])\n",
    "    ax1.set_xlim(0.2,1.5)\n",
    "\n",
    "ax1.xaxis.set_major_locator(MultipleLocator(0.5))\n",
    "ax1.xaxis.set_minor_locator(MultipleLocator(0.1))\n",
    "\n",
    "\n",
    "######################################\n",
    "# MicroBooNE\n",
    "n= 100\n",
    "if PLOT_FAMILY:\n",
    "#     plot a few examples\n",
    "    for i in micro_rand_indices:\n",
    "#         c = colormap( test_pval_norm[i]/np.max(test_pval_norm) )\n",
    "        plot_tools.step_plot(ax2,\n",
    "                      x=cern.BinEdge[:-1],\n",
    "                      y=templates_muB[i]+cern.BkgVec*0,\n",
    "                      color=c,  lw=0.1,\n",
    "                      label=\"\")\n",
    "    \n",
    "micro_nominal_template=get_micro_templates(np.array([ mbfit.mb_nue_analysis_data -  mbfit.mb_nue_analysis_predicted_background]))\n",
    "plot_tools.step_plot(ax2,\n",
    "              x=cern.BinEdge[:-1],\n",
    "              y=micro_nominal_template+cern.BkgVec*STACKED,\n",
    "              color='black',  lw=1.5,\n",
    "              label=r\"nominal\")\n",
    "\n",
    "plot_tools.step_plot(ax2,\n",
    "              x=cern.BinEdge[:-1],\n",
    "              y=np.clip(mub_template_worst, 0, np.inf)+cern.BkgVec*STACKED,\n",
    "              color=TEMP1_COLOR,  lw=1.5,\n",
    "              label=r\"template 1\")\n",
    "\n",
    "plot_tools.step_plot(ax2,\n",
    "              x=cern.BinEdge[:-1],\n",
    "              y=np.clip(mub_template_best, 0, np.inf)+cern.BkgVec*STACKED,\n",
    "              color=TEMP2_COLOR,  lw=1.5,\n",
    "              label=r\"template 2\")\n",
    "\n",
    "\n",
    "plot_tools.step_plot(ax2, \n",
    "              x=cern.BinEdge[:-1],\n",
    "              y=(np.append(0,converter.miniToMicro(mbfit.mb_sterile_best_fit))+cern.BkgVec*STACKED),\n",
    "              color='black',\n",
    "              dashes=(1,1),\n",
    "              label=r'3+1 best-fit')\n",
    "\n",
    "\n",
    "# background\n",
    "ax2.hist(cern.BinCenter,\n",
    "     weights=cern.BkgVec,\n",
    "     bins=cern.BinEdge, \n",
    "     lw = 1, \n",
    "    facecolor=(0.5,0.88,0.55),\n",
    "     label = r\"backgrounds\")    \n",
    "# data plot\n",
    "plot_tools.data_plot(ax2, \n",
    "          X=cern.BinCenter,\n",
    "          Y=cern.DatVec, \n",
    "          xerr=np.diff(cern.BinEdge)/2, \n",
    "          yerr=np.sqrt(cern.DatVec),\n",
    "         zorder=2)\n",
    "plot_tools.step_plot(ax2,\n",
    "              x=cern.BinEdge[:-1],\n",
    "              y=cern.BkgVec,\n",
    "              color='black',  \n",
    "              lw=0.5,\n",
    "              label=\"\")\n",
    "\n",
    "ax2.xaxis.set_major_locator(MultipleLocator(0.5))\n",
    "ax2.xaxis.set_minor_locator(MultipleLocator(0.1))\n",
    "\n",
    "ax2.annotate(text=r'\\textbf{MicroBooNE 2021} (Inclusive FC unconstrained)', xy=(0.0,1.05), xycoords='axes fraction', fontsize=8)\n",
    "ax2.legend(fontsize=7, markerfirst=False, ncol=3)\n",
    "ax2.set_xlabel(r\"Reconstructed $E_\\nu$ (GeV)\", fontsize=9, labelpad=2.5)\n",
    "ax2.set_ylabel(r\"Events/100 MeV\")\n",
    "ax2.set_xlim(np.min(cern.BinEdge),np.max(cern.BinEdge))\n",
    "# ax.hlines(0,0,2e3, lw=0.75, ls='--', color='black')\n",
    "ax2.set_ylim(0,45)\n",
    "\n",
    "ax1.annotate(text=r'Arg\\\"uelles\\,et.\\,al.\\,2021', xy=(0.65,1.05), xycoords='axes fraction', fontsize=8.5)\n",
    "\n",
    "fig.savefig(f\"{PATH_PLOTS}/Fig_1.png\", dpi=400)\n",
    "fig.savefig(f\"{PATH_PLOTS}/Fig_1.pdf\")"
   ]
  },
  {
   "cell_type": "code",
   "execution_count": null,
   "id": "divided-module",
   "metadata": {},
   "outputs": [],
   "source": []
  },
  {
   "cell_type": "markdown",
   "id": "absent-crisis",
   "metadata": {},
   "source": [
    "# Paper plots"
   ]
  },
  {
   "cell_type": "code",
   "execution_count": 174,
   "id": "african-truth",
   "metadata": {},
   "outputs": [],
   "source": [
    "delta_chi2s = chi2s - np.min(chi2s, axis=0)\n",
    "i_chi2_min = np.argmin(np.sum(delta_chi2s, axis=1))\n",
    "i_chi2_max = np.argmax(np.sum(delta_chi2s, axis=1))"
   ]
  },
  {
   "cell_type": "code",
   "execution_count": 75,
   "id": "rocky-income",
   "metadata": {},
   "outputs": [],
   "source": [
    "# get the minimal template\n",
    "min_delta_chi2s = np.empty(0)\n",
    "for i in range(len(x)):\n",
    "    min_delta_chi2s = np.append(min_delta_chi2s, np.min(delta_chi2s[:,i]))"
   ]
  },
  {
   "cell_type": "code",
   "execution_count": 93,
   "id": "governmental-divorce",
   "metadata": {},
   "outputs": [
    {
     "name": "stdout",
     "output_type": "stream",
     "text": [
      "[169.49378    155.84720171 226.41970476  77.69474387  68.70430268\n",
      "  66.02649682  66.08117128  39.7793506   51.0968461   68.55970876\n",
      "  96.98580602]\n"
     ]
    }
   ],
   "source": [
    "best_template = test_templates_free[i_chi2_min]\n",
    "print(best_template)\n",
    "mub_best_template = np.append(0,converter.miniToMicro(best_template))"
   ]
  },
  {
   "cell_type": "markdown",
   "id": "adolescent-overview",
   "metadata": {},
   "source": [
    "### compute all MicroBooNE chi2s"
   ]
  },
  {
   "cell_type": "code",
   "execution_count": 80,
   "id": "academic-quantum",
   "metadata": {},
   "outputs": [],
   "source": [
    "# settings for Fig. 2\n",
    "INCLUDE_BAND = True\n",
    "cmap = matplotlib.colors.LinearSegmentedColormap.from_list('custom greys', [(0.9,0.9,0.9),(0.5,0.88,0.55)], N=1)\n",
    "colormap=cmap#cm.Blues"
   ]
  },
  {
   "cell_type": "code",
   "execution_count": 81,
   "id": "alternate-toyota",
   "metadata": {},
   "outputs": [
    {
     "name": "stdout",
     "output_type": "stream",
     "text": [
      "(1, 25)\n"
     ]
    },
    {
     "data": {
      "image/png": "[encoded data removed]",
      "text/plain": [
       "<Figure size 319.68x221.055 with 1 Axes>"
      ]
     },
     "metadata": {
      "needs_background": "light"
     },
     "output_type": "display_data"
    }
   ],
   "source": [
    "official_muB_template = np.load(\"PyModules/InclusiveData/LEE_x1_Expectation.npy\")\n",
    "micro_nominal_template = get_micro_templates(np.array([mbfit.mb_nominal_excess]))\n",
    "\n",
    "\n",
    "fig, ax = plot_tools.std_fig(ax_form=[0.12,0.16,0.81,0.8])\n",
    "\n",
    "# plot a few examples\n",
    "# x, chi2s = get_microboone_chi2s_in_x(filtered_micro_templates_free, Npoints_for_x=100)\n",
    "n=len(chi2s)\n",
    "for i in range(n):\n",
    "    c = colormap( 1 - (np.sum(chi2s, axis=1)[i] - np.min(np.sum(chi2s, axis=1)))/(np.max(np.sum(chi2s, axis=1)) - np.min(np.sum(chi2s, axis=1))) )\n",
    "    ax.plot(x, chi2s[i] - np.min(chi2s[i]), color='lightgrey', alpha=1)\n",
    "    \n",
    "x_nominal, chi2_nominal = get_microboone_chi2s_in_x(micro_nominal_template, Npoints_for_x=100)\n",
    "ax.plot(x_nominal, chi2_nominal[0] - np.min(chi2_nominal[0]), color='black', lw=1.5, label=r'Our $\\Delta \\chi^2_{\\rm nominal}$')\n",
    "\n",
    "df=pd.read_csv(\"kk/InclusiveChannel/muB_1eX_eLEE_Chi2_Official.csv\", sep=',', header=None)\n",
    "x_official, chi2official = df.values.T[0], df.values.T[1] \n",
    "ax.plot(x_official,chi2official, c='black', dashes=(3,1), label=r'\\noindent MicroBooNE $\\Delta \\chi^2_{\\rm nominal}$\\\\\\ \\,')\n",
    "\n",
    "\n",
    "ax.plot(x, chi2s[i] - np.min(chi2s[i]), color='lightgrey', alpha=1, label=r'$\\{\\Delta\\chi^2_{\\rm shape}\\}$', zorder=-1)\n",
    "ax.plot(x, min_delta_chi2s, c='dodgerblue', lw=2, label=r'min($\\{ \\Delta\\chi^2_{\\rm shapes}\\})$')\n",
    "# ax.plot(x,delta_chi2s[i_chi2_min], c='dodgerblue', label=r'min($\\{ \\Delta\\chi^2_{\\rm shape}\\}$')\n",
    "\n",
    "##########\n",
    "# MINIBOONE 2018\n",
    "\n",
    "matplotlib.rcParams['hatch.linewidth'] = 0.7\n",
    "y = [0,1e10]\n",
    "NEVENTS=381.2\n",
    "ERROR = 85.2\n",
    "xleft = (NEVENTS-ERROR)/NEVENTS\n",
    "xright = (NEVENTS+ERROR)/NEVENTS\n",
    "ax.fill_betweenx(y,[xleft,xleft],[xright,xright], zorder=3,\n",
    "                     ec='orange', fc='None',\n",
    "                     hatch='\\\\\\\\\\\\\\\\\\\\',\n",
    "                     lw=0,\n",
    "                    label=r'MiniBooNE $1 \\sigma$')\n",
    "xleft = (NEVENTS-np.sqrt(NEVENTS))/NEVENTS\n",
    "xright = (NEVENTS+np.sqrt(NEVENTS))/NEVENTS\n",
    "# ax.fill_betweenx(y,[xleft,xleft],[xright,xright], zorder=5,\n",
    "#                      ec='darkorange', fc='None',\n",
    "#                      hatch='xxxxxx',\n",
    "#                      lw=0)\n",
    "ax.vlines(1,0,1e10, zorder=3, lw=1, color='darkorange')\n",
    "\n",
    "\n",
    "ax.set_xlim(0,1.5)\n",
    "ax.set_ylim(0,30)\n",
    "\n",
    "ax.xaxis.set_major_locator(MultipleLocator(0.5))\n",
    "ax.xaxis.set_minor_locator(MultipleLocator(0.1))\n",
    "\n",
    "ax.legend(loc='upper left', fontsize=9)\n",
    "\n",
    "ax.set_xlabel(r\"signal strength x\")\n",
    "ax.set_ylabel(r\"$\\Delta \\chi^2$\")\n",
    "# ax.annotate(r\"Arg\\\"uelles et. \\!al. 2021\", xy=(0.63,0.02), xycoords='axes fraction')\n",
    "ax.annotate(r\"Arg\\\"uelles et.\\,al.\\,2021\", xy=(0.04,0.42), xycoords='axes fraction')\n",
    "fig.savefig(f\"{PATH_PLOTS}/Fig_2.png\", dpi=400)\n",
    "fig.savefig(f\"{PATH_PLOTS}/Fig_2.pdf\")"
   ]
  },
  {
   "cell_type": "code",
   "execution_count": 83,
   "id": "desperate-following",
   "metadata": {},
   "outputs": [],
   "source": [
    "# Banana plot"
   ]
  },
  {
   "cell_type": "code",
   "execution_count": 84,
   "id": "illegal-surgeon",
   "metadata": {},
   "outputs": [
    {
     "ename": "ValueError",
     "evalue": "x and y must be the same size",
     "output_type": "error",
     "traceback": [
      "\u001b[0;31m---------------------------------------------------------------------------\u001b[0m",
      "\u001b[0;31mValueError\u001b[0m                                Traceback (most recent call last)",
      "\u001b[0;32m<ipython-input-84-295fc15b2398>\u001b[0m in \u001b[0;36m<module>\u001b[0;34m\u001b[0m\n\u001b[1;32m      3\u001b[0m \u001b[0;34m\u001b[0m\u001b[0m\n\u001b[1;32m      4\u001b[0m \u001b[0;34m\u001b[0m\u001b[0m\n\u001b[0;32m----> 5\u001b[0;31m \u001b[0max\u001b[0m\u001b[0;34m.\u001b[0m\u001b[0mscatter\u001b[0m\u001b[0;34m(\u001b[0m\u001b[0mx\u001b[0m\u001b[0;34m,\u001b[0m \u001b[0mchi2s\u001b[0m\u001b[0;34m)\u001b[0m\u001b[0;34m\u001b[0m\u001b[0;34m\u001b[0m\u001b[0m\n\u001b[0m\u001b[1;32m      6\u001b[0m \u001b[0;34m\u001b[0m\u001b[0m\n\u001b[1;32m      7\u001b[0m \u001b[0;34m\u001b[0m\u001b[0m\n",
      "\u001b[0;32m/usr/local/lib/python3.9/site-packages/matplotlib/__init__.py\u001b[0m in \u001b[0;36minner\u001b[0;34m(ax, data, *args, **kwargs)\u001b[0m\n\u001b[1;32m   1359\u001b[0m     \u001b[0;32mdef\u001b[0m \u001b[0minner\u001b[0m\u001b[0;34m(\u001b[0m\u001b[0max\u001b[0m\u001b[0;34m,\u001b[0m \u001b[0;34m*\u001b[0m\u001b[0margs\u001b[0m\u001b[0;34m,\u001b[0m \u001b[0mdata\u001b[0m\u001b[0;34m=\u001b[0m\u001b[0;32mNone\u001b[0m\u001b[0;34m,\u001b[0m \u001b[0;34m**\u001b[0m\u001b[0mkwargs\u001b[0m\u001b[0;34m)\u001b[0m\u001b[0;34m:\u001b[0m\u001b[0;34m\u001b[0m\u001b[0;34m\u001b[0m\u001b[0m\n\u001b[1;32m   1360\u001b[0m         \u001b[0;32mif\u001b[0m \u001b[0mdata\u001b[0m \u001b[0;32mis\u001b[0m \u001b[0;32mNone\u001b[0m\u001b[0;34m:\u001b[0m\u001b[0;34m\u001b[0m\u001b[0;34m\u001b[0m\u001b[0m\n\u001b[0;32m-> 1361\u001b[0;31m             \u001b[0;32mreturn\u001b[0m \u001b[0mfunc\u001b[0m\u001b[0;34m(\u001b[0m\u001b[0max\u001b[0m\u001b[0;34m,\u001b[0m \u001b[0;34m*\u001b[0m\u001b[0mmap\u001b[0m\u001b[0;34m(\u001b[0m\u001b[0msanitize_sequence\u001b[0m\u001b[0;34m,\u001b[0m \u001b[0margs\u001b[0m\u001b[0;34m)\u001b[0m\u001b[0;34m,\u001b[0m \u001b[0;34m**\u001b[0m\u001b[0mkwargs\u001b[0m\u001b[0;34m)\u001b[0m\u001b[0;34m\u001b[0m\u001b[0;34m\u001b[0m\u001b[0m\n\u001b[0m\u001b[1;32m   1362\u001b[0m \u001b[0;34m\u001b[0m\u001b[0m\n\u001b[1;32m   1363\u001b[0m         \u001b[0mbound\u001b[0m \u001b[0;34m=\u001b[0m \u001b[0mnew_sig\u001b[0m\u001b[0;34m.\u001b[0m\u001b[0mbind\u001b[0m\u001b[0;34m(\u001b[0m\u001b[0max\u001b[0m\u001b[0;34m,\u001b[0m \u001b[0;34m*\u001b[0m\u001b[0margs\u001b[0m\u001b[0;34m,\u001b[0m \u001b[0;34m**\u001b[0m\u001b[0mkwargs\u001b[0m\u001b[0;34m)\u001b[0m\u001b[0;34m\u001b[0m\u001b[0;34m\u001b[0m\u001b[0m\n",
      "\u001b[0;32m/usr/local/lib/python3.9/site-packages/matplotlib/axes/_axes.py\u001b[0m in \u001b[0;36mscatter\u001b[0;34m(self, x, y, s, c, marker, cmap, norm, vmin, vmax, alpha, linewidths, edgecolors, plotnonfinite, **kwargs)\u001b[0m\n\u001b[1;32m   4496\u001b[0m         \u001b[0my\u001b[0m \u001b[0;34m=\u001b[0m \u001b[0mnp\u001b[0m\u001b[0;34m.\u001b[0m\u001b[0mma\u001b[0m\u001b[0;34m.\u001b[0m\u001b[0mravel\u001b[0m\u001b[0;34m(\u001b[0m\u001b[0my\u001b[0m\u001b[0;34m)\u001b[0m\u001b[0;34m\u001b[0m\u001b[0;34m\u001b[0m\u001b[0m\n\u001b[1;32m   4497\u001b[0m         \u001b[0;32mif\u001b[0m \u001b[0mx\u001b[0m\u001b[0;34m.\u001b[0m\u001b[0msize\u001b[0m \u001b[0;34m!=\u001b[0m \u001b[0my\u001b[0m\u001b[0;34m.\u001b[0m\u001b[0msize\u001b[0m\u001b[0;34m:\u001b[0m\u001b[0;34m\u001b[0m\u001b[0;34m\u001b[0m\u001b[0m\n\u001b[0;32m-> 4498\u001b[0;31m             \u001b[0;32mraise\u001b[0m \u001b[0mValueError\u001b[0m\u001b[0;34m(\u001b[0m\u001b[0;34m\"x and y must be the same size\"\u001b[0m\u001b[0;34m)\u001b[0m\u001b[0;34m\u001b[0m\u001b[0;34m\u001b[0m\u001b[0m\n\u001b[0m\u001b[1;32m   4499\u001b[0m \u001b[0;34m\u001b[0m\u001b[0m\n\u001b[1;32m   4500\u001b[0m         \u001b[0;32mif\u001b[0m \u001b[0ms\u001b[0m \u001b[0;32mis\u001b[0m \u001b[0;32mNone\u001b[0m\u001b[0;34m:\u001b[0m\u001b[0;34m\u001b[0m\u001b[0;34m\u001b[0m\u001b[0m\n",
      "\u001b[0;31mValueError\u001b[0m: x and y must be the same size"
     ]
    },
    {
     "data": {
      "image/png": "[encoded data removed]",
      "text/plain": [
       "<Figure size 319.68x221.055 with 1 Axes>"
      ]
     },
     "metadata": {
      "needs_background": "light"
     },
     "output_type": "display_data"
    }
   ],
   "source": [
    "fig, ax = plot_tools.std_fig(ax_form=[0.12,0.16,0.81,0.8])\n",
    "\n",
    "\n",
    "\n",
    "ax.scatter(x, chi2s)\n",
    "\n",
    "\n",
    "ax.set_xlim(0,1.5)\n",
    "ax.set_ylim(0,30)\n",
    "\n",
    "ax.xaxis.set_major_locator(MultipleLocator(0.5))\n",
    "ax.xaxis.set_minor_locator(MultipleLocator(0.1))\n",
    "\n",
    "ax.legend(loc='upper left', fontsize=9)\n",
    "\n",
    "ax.set_xlabel(r\"signal strength x\")\n",
    "ax.set_ylabel(r\"$\\Delta \\chi^2$\")\n",
    "# ax.annotate(r\"Arg\\\"uelles et. \\!al. 2021\", xy=(0.63,0.02), xycoords='axes fraction')\n",
    "ax.annotate(r\"Arg\\\"uelles et.\\,al.\\,2021\", xy=(0.04,0.42), xycoords='axes fraction')\n",
    "fig.savefig(f\"{PATH_PLOTS}/Fig_2_bananas.png\", dpi=400)\n",
    "fig.savefig(f\"{PATH_PLOTS}/Fig_2_bananas.pdf\")"
   ]
  },
  {
   "cell_type": "code",
   "execution_count": 82,
   "id": "catholic-wales",
   "metadata": {},
   "outputs": [
    {
     "data": {
      "text/plain": [
       "<matplotlib.legend.Legend at 0x13191a790>"
      ]
     },
     "execution_count": 82,
     "metadata": {},
     "output_type": "execute_result"
    },
    {
     "data": {
      "image/png": "[encoded data removed]",
      "text/plain": [
       "<Figure size 319.68x221.055 with 1 Axes>"
      ]
     },
     "metadata": {
      "needs_background": "light"
     },
     "output_type": "display_data"
    }
   ],
   "source": [
    "fig, ax = plot_tools.std_fig()\n",
    "\n",
    "flat_temp = np.ones(11)*0.2*mbfit.bin_width/1.5\n",
    "mub_flat_temp = np.append(0.0, converter.miniToMicro(flat_temp))\n",
    "\n",
    "ax.plot(cern.BinCenter, mub_flat_temp, label='flat 0.13 events/MeV at MiniBooNE')\n",
    "z=np.ones(11)\n",
    "z[0] = 2\n",
    "ax.plot(cern.BinCenter, np.append(0, converter.miniToMicro(mbfit.mb_nominal_excess*z)), label='nominal')\n",
    "ax.set_xlabel('Energy/MeV')\n",
    "ax.set_ylabel('Events')\n",
    "ax.legend(loc='upper left')\n"
   ]
  },
  {
   "cell_type": "code",
   "execution_count": null,
   "id": "greater-plymouth",
   "metadata": {},
   "outputs": [],
   "source": []
  },
  {
   "cell_type": "code",
   "execution_count": null,
   "id": "separate-country",
   "metadata": {},
   "outputs": [],
   "source": []
  },
  {
   "cell_type": "code",
   "execution_count": null,
   "id": "outstanding-attention",
   "metadata": {},
   "outputs": [],
   "source": []
  },
  {
   "cell_type": "code",
   "execution_count": null,
   "id": "technological-listening",
   "metadata": {},
   "outputs": [],
   "source": []
  }
 ],
 "metadata": {
  "kernelspec": {
   "display_name": "Python 3",
   "language": "python",
   "name": "python3"
  },
  "language_info": {
   "codemirror_mode": {
    "name": "ipython",
    "version": 3
   },
   "file_extension": ".py",
   "mimetype": "text/x-python",
   "name": "python",
   "nbconvert_exporter": "python",
   "pygments_lexer": "ipython3",
   "version": "3.9.9"
  }
 },
 "nbformat": 4,
 "nbformat_minor": 5
}
