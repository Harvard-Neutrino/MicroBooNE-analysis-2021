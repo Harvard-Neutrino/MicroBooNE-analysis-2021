{
 "cells": [
  {
   "cell_type": "markdown",
   "id": "scheduled-reproduction",
   "metadata": {},
   "source": [
    "## Notebook for model independent templates "
   ]
  },
  {
   "cell_type": "code",
   "execution_count": 1,
   "id": "worse-pointer",
   "metadata": {},
   "outputs": [],
   "source": [
    "%load_ext autoreload\n",
    "%autoreload 2"
   ]
  },
  {
   "cell_type": "code",
   "execution_count": 3,
   "id": "vocational-evaluation",
   "metadata": {},
   "outputs": [],
   "source": [
    "import os\n",
    "import sys\n",
    "import numpy as np\n",
    "import scipy\n",
    "import scipy.interpolate as interpolate\n",
    "\n",
    "import matplotlib.pyplot as plt\n",
    "from matplotlib.pyplot import cm\n",
    "path = f'{os.path.split(os.getcwd())[0]}/../'\n",
    "nb_dir = os.path.split(os.getcwd())[0]\n",
    "if nb_dir not in sys.path:\n",
    "    sys.path.append(path)\n",
    "    \n",
    "# module that imports MB data and defines the MB chi2, etc (neutrino data only)\n",
    "from HarvardPerimeter import miniboone_neutrino_improved_fit as mbfit\n",
    "\n",
    "# module with MCMC tools using model-independent template\n",
    "from HarvardPerimeter import mcmc_signal\n",
    "from HarvardPerimeter.mcmc_signal import get_pvalue\n",
    "\n",
    "# module for plotting\n",
    "from HarvardPerimeter import plot_tools"
   ]
  },
  {
   "cell_type": "markdown",
   "id": "starting-maine",
   "metadata": {},
   "source": [
    "## Test chi2 function\n",
    "\n",
    "\n",
    "We start by testing our MiniBooNE chi2 function. We take the LEE, defined as (data - background) for the MiniBooNE 2018 neutrino dataset, and deform its shape by taking events from the first 2 bins, and distributing them evenly across the other bins"
   ]
  },
  {
   "cell_type": "code",
   "execution_count": 4,
   "id": "opposite-prior",
   "metadata": {},
   "outputs": [],
   "source": [
    "PATH_PLOTS = '../../../plots/'"
   ]
  },
  {
   "cell_type": "code",
   "execution_count": 176,
   "id": "valid-providence",
   "metadata": {},
   "outputs": [
    {
     "data": {
      "image/png": "[encoded data removed]",
      "text/plain": [
       "<Figure size 319.68x221.055 with 1 Axes>"
      ]
     },
     "metadata": {
      "needs_background": "light"
     },
     "output_type": "display_data"
    }
   ],
   "source": [
    "fig, ax = plot_tools.std_fig()\n",
    "\n",
    "xmin=1\n",
    "ax.plot(*mcmc_signal.get_templates_for_all_scalings(xrange = [0.2, 2], n=1), label=r'rescaling 1st bin')\n",
    "ax.plot(*mcmc_signal.get_templates_for_all_scalings(xrange = [0.2, 2], n=2), label=r'rescaling 1 to 2 bins')\n",
    "ax.plot(*mcmc_signal.get_templates_for_all_scalings(xrange = [0.2, 2], n=3), label=r'rescaling 1 to 3 bins')\n",
    "ax.plot(*mcmc_signal.get_templates_for_all_scalings(xrange = [0.2, 2], n=4), label=r'rescaling 1 to 4 bins')\n",
    "ax.plot(*mcmc_signal.get_templates_for_all_scalings(xrange = [0.2, 2], n=5), label=r'rescaling 1 to 5 bins')\n",
    "ax.plot(*mcmc_signal.get_templates_for_all_scalings(xrange = [0.2, 2], n=6), label=r'rescaling 1 to 6 bins')\n",
    "\n",
    "ax.set_ylabel(r\"probability\")\n",
    "ax.set_xlabel(r\"scaling factor\")\n",
    "ax.legend()\n",
    "fig.savefig(f\"{PATH_PLOTS}/trial_templates_chi2.png\", dpi=400)"
   ]
  },
  {
   "cell_type": "markdown",
   "id": "responsible-trinidad",
   "metadata": {},
   "source": [
    "### Now we check that Pedro's example gives p-value = 10%"
   ]
  },
  {
   "cell_type": "code",
   "execution_count": 177,
   "id": "lesbian-lincoln",
   "metadata": {},
   "outputs": [
    {
     "name": "stdout",
     "output_type": "stream",
     "text": [
      "Pedro's template p-value: 0.10134747397854528\n"
     ]
    }
   ],
   "source": [
    "# took pedro's values by eye/\n",
    "pedros_template = np.array([35,42,67,50,40,40,43,40,30,0,0])\n",
    "pedros_chi2 = mbfit.CalculateChi2SignalExpectations(pedros_template)\n",
    "pedros_pvalue = scipy.stats.chi2.sf(pedros_chi2, 8.7, loc=0, scale=1)\n",
    "print(\"Pedro's template p-value:\", pedros_pvalue)"
   ]
  },
  {
   "cell_type": "code",
   "execution_count": 178,
   "id": "violent-frontier",
   "metadata": {},
   "outputs": [
    {
     "name": "stdout",
     "output_type": "stream",
     "text": [
      "Best flat template has 0.19828839491270714 events in each bin, with p-value=0.11154757703378755\n"
     ]
    }
   ],
   "source": [
    "bestfit_x = 0\n",
    "bestfit_p = 0\n",
    "for x in np.geomspace(0.01,10,1000):\n",
    "    flat_template = x*mbfit.bin_width\n",
    "    flat_template[-1:] = 0.0\n",
    "    if mcmc_signal.get_pvalue(flat_template) > bestfit_p:\n",
    "        bestfit_x = x\n",
    "        bestfit_p = mcmc_signal.get_pvalue(flat_template)\n",
    "print(f\"Best flat template has {bestfit_x} events in each bin, with p-value={bestfit_p}\")\n",
    "\n",
    "# now we keep the best template\n",
    "flat_template = bestfit_x*mbfit.bin_width \n",
    "flat_template[-1] = 0"
   ]
  },
  {
   "cell_type": "markdown",
   "id": "weighted-reconstruction",
   "metadata": {},
   "source": [
    "##### yet another template by reducing first 4 bins by a factor of 3"
   ]
  },
  {
   "cell_type": "code",
   "execution_count": 237,
   "id": "turned-jordan",
   "metadata": {},
   "outputs": [
    {
     "name": "stdout",
     "output_type": "stream",
     "text": [
      "0.009219081991035754\n",
      "359.874622\n"
     ]
    }
   ],
   "source": [
    "template_1=mcmc_signal.new_template(3, n=4)\n",
    "mbfit.CalculateChi2SignalExpectations(template_1)\n",
    "template_1_pvalue = scipy.stats.chi2.sf(mbfit.CalculateChi2SignalExpectations(template_1), \n",
    "                                        len(template_1)-1)\n",
    "print(template_1_pvalue)\n",
    "print(np.sum(template_1))"
   ]
  },
  {
   "cell_type": "code",
   "execution_count": 245,
   "id": "finite-timothy",
   "metadata": {},
   "outputs": [],
   "source": [
    "# template_1=mcmc_signal.new_template(3, n=4)\n",
    "# mbfit.CalculateChi2SignalExpectations(template_1)\n",
    "# template_1_pvalue = scipy.stats.chi2.sf(mbfit.CalculateChi2SignalExpectations(template_1), \n",
    "#                                         len(template_1)-1)\n",
    "\n",
    "test = mcmc_11bins_free\n",
    "\n",
    "test_normed =test.T[ np.abs(np.sum(test, axis=0) - 359.874622) < 5]\n",
    "e_test = np.sum((test_normed*mbfit.bin_centers).T/359.874622, axis=0)\n",
    "\n",
    "template_1 = test_normed[np.argmax(test_normed[:,0])]\n"
   ]
  },
  {
   "cell_type": "markdown",
   "id": "apparent-digest",
   "metadata": {},
   "source": [
    "### Plot some templates on top of MiniBooNE data"
   ]
  },
  {
   "cell_type": "code",
   "execution_count": 248,
   "id": "double-prisoner",
   "metadata": {},
   "outputs": [
    {
     "data": {
      "image/png": "[encoded data removed]",
      "text/plain": [
       "<Figure size 319.68x221.055 with 1 Axes>"
      ]
     },
     "metadata": {
      "needs_background": "light"
     },
     "output_type": "display_data"
    }
   ],
   "source": [
    "fig, ax = plot_tools.std_fig()\n",
    "\n",
    "# plot data\n",
    "plot_tools.data_plot(ax, \n",
    "          X=mbfit.bin_centers,\n",
    "          Y=(mbfit.mb_nominal_excess)/mbfit.bin_width, \n",
    "          xerr=np.diff(mbfit.bin_edges)/2, \n",
    "          yerr=np.sqrt(mbfit.mb_nue_analysis_data)/mbfit.bin_width,\n",
    "            zorder=1)\n",
    "\n",
    "# # plot signal\n",
    "MB_LEE = mbfit.mb_nue_analysis_data - mbfit.mb_nue_analysis_predicted_background\n",
    "plot_tools.step_plot(ax, \n",
    "              x=mbfit.bin_edges[:-1],\n",
    "              y=(mbfit.mb_nominal_excess)/mbfit.bin_width,\n",
    "              color='black',\n",
    "              label='nominal template')\n",
    "\n",
    "\n",
    "# PEDRO\n",
    "plot_tools.step_plot(ax,\n",
    "              x=mbfit.bin_edges[:-1],\n",
    "              y=(pedros_template)/mbfit.bin_width,\n",
    "              color='red',lw=1.5,\n",
    "              label=fr\"Pedro's template ($p_{{\\rm val}} = {get_pvalue(pedros_template):.2g}$)\")\n",
    "\n",
    "\n",
    "# MINE\n",
    "plot_tools.step_plot(ax,\n",
    "              x=mbfit.bin_edges[:-1],\n",
    "              y=(template_1)/mbfit.bin_width,\n",
    "              color='dodgerblue',lw=1.5,\n",
    "              label=fr'Lowest E template ($p_{{\\rm val}} = {get_pvalue(template_1):.2g}$)')\n",
    "\n",
    "# FLAT\n",
    "plot_tools.step_plot(ax,\n",
    "              x=mbfit.bin_edges[:-1],\n",
    "              y=(flat_template)/mbfit.bin_width,\n",
    "              color='green',lw=1.5,\n",
    "              label=fr\"\\noindent flat {bestfit_x:.2f} events/MeV ($p_{{\\rm val}} = {get_pvalue(flat_template):.2g}$)\")\n",
    "\n",
    "\n",
    "ax.legend()\n",
    "ax.set_xlabel(r\"$E^{\\rm QE-reco}_\\nu/{\\rm MeV}$\")\n",
    "ax.set_ylabel(r\"Excess events/MeV\")\n",
    "ax.set_xlim(200.0,1.5e3)\n",
    "ax.hlines(0,0,2e3, lw=0.75, ls='--', color='black')\n",
    "# ax.set_ylim(-0.1,3)\n",
    "\n",
    "fig.savefig(f\"{PATH_PLOTS}/trial_templates.png\", dpi=400)"
   ]
  },
  {
   "cell_type": "code",
   "execution_count": null,
   "id": "amazing-india",
   "metadata": {},
   "outputs": [],
   "source": []
  },
  {
   "cell_type": "code",
   "execution_count": 14,
   "id": "supposed-pulse",
   "metadata": {},
   "outputs": [
    {
     "data": {
      "image/png": "[encoded data removed]",
      "text/plain": [
       "<Figure size 319.68x221.055 with 1 Axes>"
      ]
     },
     "metadata": {
      "needs_background": "light"
     },
     "output_type": "display_data"
    }
   ],
   "source": [
    "fig, ax = plot_tools.std_fig()\n",
    "\n",
    "# plot data\n",
    "plot_tools.data_plot(ax, \n",
    "          X=mbfit.bin_centers,\n",
    "          Y=(mbfit.mb_nue_analysis_data)/mbfit.bin_width, \n",
    "          xerr=np.diff(mbfit.bin_edges)/2, \n",
    "          yerr=np.sqrt(mbfit.mb_nue_analysis_data)/mbfit.bin_width,\n",
    "         zorder=1)\n",
    "\n",
    "# # plot signal\n",
    "MB_LEE = mbfit.mb_nue_analysis_data - mbfit.mb_nue_analysis_predicted_background\n",
    "plot_tools.step_plot(ax, \n",
    "              x=mbfit.bin_edges[:-1],\n",
    "              y=(MB_LEE+mbfit.mb_nue_analysis_predicted_background)/mbfit.bin_width,\n",
    "              color='black',\n",
    "              label='nominal template')\n",
    "\n",
    "template_1= mcmc_signal.new_template(3, 4)\n",
    "mbfit.CalculateChi2SignalExpectations(template_1)\n",
    "template_1_pvalue = scipy.stats.chi2.sf(mbfit.CalculateChi2SignalExpectations(template_1), \n",
    "                                        len(template_1)-1)\n",
    "\n",
    "\n",
    "\n",
    "# PEDRO\n",
    "plot_tools.step_plot(ax,\n",
    "              x=mbfit.bin_edges[:-1],\n",
    "              y=(pedros_template+mbfit.mb_nue_analysis_predicted_background)/mbfit.bin_width,\n",
    "              color='red',lw=1.5,\n",
    "              label=fr\"Pedro's template ($p_{{\\rm val}} = {get_pvalue(pedros_template):.2g}$)\")\n",
    "\n",
    "# MINE\n",
    "plot_tools.step_plot(ax,\n",
    "              x=mbfit.bin_edges[:-1],\n",
    "              y=(template_1+mbfit.mb_nue_analysis_predicted_background)/mbfit.bin_width,\n",
    "              color='dodgerblue',lw=1.5,\n",
    "              label=fr'My template ($p_{{\\rm val}} = {get_pvalue(template_1):.2g}$)')\n",
    "# FLAT TEMPLATE\n",
    "plot_tools.step_plot(ax,\n",
    "              x=mbfit.bin_edges[:-1],\n",
    "              y=(flat_template+mbfit.mb_nue_analysis_predicted_background)/mbfit.bin_width,\n",
    "              color='green',lw=1.5,\n",
    "              label=fr\"flat template ($p_{{\\rm val}} = {get_pvalue(flat_template):.2g}$)\")\n",
    "\n",
    "\n",
    "ax.hist(mbfit.bin_centers,\n",
    "         weights=mbfit.mb_nue_analysis_predicted_background/mbfit.bin_width,\n",
    "         bins=mbfit.bin_edges, \n",
    "         lw = 1, \n",
    "        hatch='/////',\n",
    "        facecolor = \"None\", \n",
    "        edgecolor='grey',\n",
    "         label = \"Background\")\n",
    "\n",
    "ax.legend()\n",
    "ax.set_xlabel(r\"$E^{\\rm QE-reco}_\\nu/{\\rm MeV}$\")\n",
    "ax.set_ylabel(r\"Events/MeV\")\n",
    "ax.set_xlim(200.0,1.5e3)\n",
    "ax.hlines(0,0,2e3, lw=0.75, ls='--', color='black')\n",
    "ax.set_ylim(0,6)\n",
    "\n",
    "fig.savefig(f\"{PATH_PLOTS}/trial_templates_w_bkgs.png\", dpi=400)"
   ]
  },
  {
   "cell_type": "markdown",
   "id": "competitive-childhood",
   "metadata": {},
   "source": [
    "# Run MCMC "
   ]
  },
  {
   "cell_type": "markdown",
   "id": "governmental-infrared",
   "metadata": {},
   "source": [
    "##### test likelihood function that will be used in mcmc "
   ]
  },
  {
   "cell_type": "code",
   "execution_count": 15,
   "id": "racial-reasoning",
   "metadata": {},
   "outputs": [
    {
     "name": "stdout",
     "output_type": "stream",
     "text": [
      "-6.9626267931395285 -inf -inf\n",
      "-7.1224152621102075 -inf -inf\n",
      "-7.34563552578528 2.0379360524449073 -5.307699473340373\n"
     ]
    }
   ],
   "source": [
    "print(mcmc_signal.GetLikelihood(flat_template),\n",
    "      mcmc_signal.lnprior(flat_template), \n",
    "      mcmc_signal.lnprob(flat_template))\n",
    "\n",
    "print(mcmc_signal.GetLikelihood(pedros_template), \n",
    "      mcmc_signal.lnprior(pedros_template), \n",
    "      mcmc_signal.lnprob(pedros_template))\n",
    "\n",
    "print(mcmc_signal.GetLikelihood(template_1), \n",
    "      mcmc_signal.lnprior(template_1), \n",
    "      mcmc_signal.lnprob(template_1))"
   ]
  },
  {
   "cell_type": "markdown",
   "id": "premier-vampire",
   "metadata": {},
   "source": [
    "### Trial run w/ only 4 lowest-energy bins\n",
    "\n",
    "setting other high energy bins to 0"
   ]
  },
  {
   "cell_type": "code",
   "execution_count": 16,
   "id": "checked-classification",
   "metadata": {
    "scrolled": true
   },
   "outputs": [
    {
     "name": "stderr",
     "output_type": "stream",
     "text": [
      "/usr/local/lib/python3.9/site-packages/emcee/moves/red_blue.py:99: RuntimeWarning: invalid value encountered in double_scalars\n",
      "  lnpdiff = f + nlp - state.log_prob[j]\n",
      " 26%|██▌       | 130/500 [00:00<00:00, 1296.00it/s]"
     ]
    },
    {
     "name": "stdout",
     "output_type": "stream",
     "text": [
      "Initializing walkers\n",
      "Running burn-in\n"
     ]
    },
    {
     "name": "stderr",
     "output_type": "stream",
     "text": [
      "100%|██████████| 500/500 [00:00<00:00, 1611.38it/s]\n",
      " 16%|█▋        | 164/1000 [00:00<00:00, 1635.08it/s]"
     ]
    },
    {
     "name": "stdout",
     "output_type": "stream",
     "text": [
      "Running proper mcmc\n"
     ]
    },
    {
     "name": "stderr",
     "output_type": "stream",
     "text": [
      "100%|██████████| 1000/1000 [00:00<00:00, 1766.74it/s]\n"
     ]
    },
    {
     "name": "stdout",
     "output_type": "stream",
     "text": [
      "Time elapsed 0.9033710956573486\n"
     ]
    }
   ],
   "source": [
    "# start with only 4 first bins\n",
    "_=mcmc_signal.run_mcmc(nwalkers=16, nsteps = 1000, threads=4, burnin_steps = 500, nbins=4)\n"
   ]
  },
  {
   "cell_type": "code",
   "execution_count": 17,
   "id": "handmade-austin",
   "metadata": {},
   "outputs": [
    {
     "name": "stderr",
     "output_type": "stream",
     "text": [
      "/usr/local/lib/python3.9/site-packages/emcee/moves/red_blue.py:99: RuntimeWarning: invalid value encountered in double_scalars\n",
      "  lnpdiff = f + nlp - state.log_prob[j]\n",
      "  0%|          | 4/1000 [00:00<00:27, 35.79it/s]"
     ]
    },
    {
     "name": "stdout",
     "output_type": "stream",
     "text": [
      "Initializing walkers\n",
      "Running burn-in\n"
     ]
    },
    {
     "name": "stderr",
     "output_type": "stream",
     "text": [
      "100%|██████████| 1000/1000 [00:02<00:00, 436.67it/s]\n",
      "100%|██████████| 100/100 [00:00<00:00, 622.42it/s]\n"
     ]
    },
    {
     "name": "stdout",
     "output_type": "stream",
     "text": [
      "Running proper mcmc\n",
      "Time elapsed 2.4657840728759766\n"
     ]
    }
   ],
   "source": [
    "_=mcmc_signal.run_mcmc(nwalkers=16, nsteps = 100, nbins=4, normalize=True)"
   ]
  },
  {
   "cell_type": "markdown",
   "id": "incorporated-newton",
   "metadata": {},
   "source": [
    "### first 10 BINS\n"
   ]
  },
  {
   "cell_type": "code",
   "execution_count": 18,
   "id": "returning-journalism",
   "metadata": {
    "scrolled": true
   },
   "outputs": [
    {
     "name": "stderr",
     "output_type": "stream",
     "text": [
      "/usr/local/lib/python3.9/site-packages/emcee/moves/red_blue.py:99: RuntimeWarning: invalid value encountered in double_scalars\n",
      "  lnpdiff = f + nlp - state.log_prob[j]\n",
      "  9%|▉         | 93/1000 [00:00<00:00, 926.68it/s]"
     ]
    },
    {
     "name": "stdout",
     "output_type": "stream",
     "text": [
      "Initializing walkers\n",
      "Running burn-in\n"
     ]
    },
    {
     "name": "stderr",
     "output_type": "stream",
     "text": [
      "100%|██████████| 1000/1000 [00:01<00:00, 823.20it/s]\n",
      "  8%|▊         | 83/1000 [00:00<00:01, 826.26it/s]"
     ]
    },
    {
     "name": "stdout",
     "output_type": "stream",
     "text": [
      "Running proper mcmc\n"
     ]
    },
    {
     "name": "stderr",
     "output_type": "stream",
     "text": [
      "100%|██████████| 1000/1000 [00:01<00:00, 939.71it/s]\n"
     ]
    },
    {
     "name": "stdout",
     "output_type": "stream",
     "text": [
      "Time elapsed 2.2860031127929688\n"
     ]
    }
   ],
   "source": [
    "## neglecting the overflow bin for comparison\n",
    "_=mcmc_signal.run_mcmc(nwalkers=50, nsteps = 1000, nbins=10)"
   ]
  },
  {
   "cell_type": "code",
   "execution_count": 40,
   "id": "downtown-gravity",
   "metadata": {},
   "outputs": [
    {
     "name": "stderr",
     "output_type": "stream",
     "text": [
      "/usr/local/lib/python3.9/site-packages/emcee/moves/red_blue.py:99: RuntimeWarning: invalid value encountered in double_scalars\n",
      "  lnpdiff = f + nlp - state.log_prob[j]\n",
      "  2%|▏         | 20/1000 [00:00<00:05, 189.94it/s]"
     ]
    },
    {
     "name": "stdout",
     "output_type": "stream",
     "text": [
      "Initializing walkers\n",
      "Running burn-in\n"
     ]
    },
    {
     "name": "stderr",
     "output_type": "stream",
     "text": [
      "100%|██████████| 1000/1000 [00:04<00:00, 243.13it/s]\n",
      "  2%|▏         | 19/1000 [00:00<00:05, 188.54it/s]"
     ]
    },
    {
     "name": "stdout",
     "output_type": "stream",
     "text": [
      "Running proper mcmc\n"
     ]
    },
    {
     "name": "stderr",
     "output_type": "stream",
     "text": [
      "100%|██████████| 1000/1000 [00:04<00:00, 240.88it/s]\n"
     ]
    },
    {
     "name": "stdout",
     "output_type": "stream",
     "text": [
      "Time elapsed 8.280052900314331\n"
     ]
    }
   ],
   "source": [
    "_=mcmc_signal.run_mcmc(nwalkers=50, nsteps = 1000, nbins=10, normalize=True)"
   ]
  },
  {
   "cell_type": "markdown",
   "id": "dynamic-miracle",
   "metadata": {},
   "source": [
    "### All 11 bins"
   ]
  },
  {
   "cell_type": "code",
   "execution_count": 95,
   "id": "pursuant-relative",
   "metadata": {
    "scrolled": true
   },
   "outputs": [
    {
     "name": "stderr",
     "output_type": "stream",
     "text": [
      "  2%|▏         | 20/1000 [00:00<00:04, 197.74it/s]"
     ]
    },
    {
     "name": "stdout",
     "output_type": "stream",
     "text": [
      "Initializing walkers\n",
      "Running burn-in\n"
     ]
    },
    {
     "name": "stderr",
     "output_type": "stream",
     "text": [
      "100%|██████████| 1000/1000 [00:03<00:00, 300.90it/s]\n",
      "  2%|▏         | 21/1000 [00:00<00:04, 204.83it/s]"
     ]
    },
    {
     "name": "stdout",
     "output_type": "stream",
     "text": [
      "Running proper mcmc\n"
     ]
    },
    {
     "name": "stderr",
     "output_type": "stream",
     "text": [
      "100%|██████████| 1000/1000 [00:03<00:00, 309.62it/s]\n"
     ]
    },
    {
     "name": "stdout",
     "output_type": "stream",
     "text": [
      "Time elapsed 6.574086904525757\n"
     ]
    }
   ],
   "source": [
    "_=mcmc_signal.run_mcmc(nwalkers=55, nsteps = 1000, nbins=11)"
   ]
  },
  {
   "cell_type": "code",
   "execution_count": 21,
   "id": "ready-singapore",
   "metadata": {},
   "outputs": [
    {
     "name": "stderr",
     "output_type": "stream",
     "text": [
      "  1%|          | 9/1000 [00:00<00:12, 82.28it/s]"
     ]
    },
    {
     "name": "stdout",
     "output_type": "stream",
     "text": [
      "Initializing walkers\n",
      "Running burn-in\n"
     ]
    },
    {
     "name": "stderr",
     "output_type": "stream",
     "text": [
      "100%|██████████| 1000/1000 [00:04<00:00, 201.92it/s]\n",
      "  1%|          | 14/2000 [00:00<00:14, 137.36it/s]"
     ]
    },
    {
     "name": "stdout",
     "output_type": "stream",
     "text": [
      "Running proper mcmc\n"
     ]
    },
    {
     "name": "stderr",
     "output_type": "stream",
     "text": [
      "100%|██████████| 2000/2000 [00:08<00:00, 228.85it/s]\n"
     ]
    },
    {
     "name": "stdout",
     "output_type": "stream",
     "text": [
      "Time elapsed 13.710517883300781\n"
     ]
    }
   ],
   "source": [
    "_=mcmc_signal.run_mcmc(nwalkers=55, nsteps = 2000, nbins=11, normalize=True)"
   ]
  },
  {
   "cell_type": "markdown",
   "id": "fallen-overhead",
   "metadata": {},
   "source": [
    "### load mcmc samples"
   ]
  },
  {
   "cell_type": "code",
   "execution_count": 41,
   "id": "lonely-entity",
   "metadata": {},
   "outputs": [],
   "source": [
    "mcmc_11bins_norm = np.genfromtxt('../mcmc_results/miniboone_signal_chain_11_bins_normalized.dat',unpack=True)\n",
    "mcmc_10bins_norm = np.genfromtxt('../mcmc_results/miniboone_signal_chain_10_bins_normalized.dat',unpack=True)\n",
    "mcmc_4bins_norm = np.genfromtxt('../mcmc_results/miniboone_signal_chain_4_bins_normalized.dat',unpack=True)"
   ]
  },
  {
   "cell_type": "code",
   "execution_count": 56,
   "id": "outer-claim",
   "metadata": {},
   "outputs": [],
   "source": [
    "filtered_mcmc_4bins_norm = mcmc_signal.filter_samples(mcmc_4bins_norm)\n",
    "filtered_mcmc_10bins_norm = mcmc_signal.filter_samples(mcmc_10bins_norm)\n",
    "filtered_mcmc_11bins_norm = mcmc_signal.filter_samples(mcmc_11bins_norm)"
   ]
  },
  {
   "cell_type": "code",
   "execution_count": 96,
   "id": "fifty-thing",
   "metadata": {},
   "outputs": [],
   "source": [
    "mcmc_11bins_free = np.genfromtxt('../mcmc_results/miniboone_signal_chain_11_bins_free.dat',unpack=True)\n",
    "filtered_mcmc_11bins_free = mcmc_signal.filter_samples(mcmc_11bins_free)"
   ]
  },
  {
   "cell_type": "code",
   "execution_count": 24,
   "id": "verified-secondary",
   "metadata": {},
   "outputs": [],
   "source": [
    "mcmc_11bins_free = np.genfromtxt('../mcmc_results/miniboone_signal_chain_11_bins_free.dat',unpack=True)\n",
    "mcmc_10bins_free = np.genfromtxt('../mcmc_results/miniboone_signal_chain_10_bins_free.dat',unpack=True)\n",
    "mcmc_4bins_free = np.genfromtxt('../mcmc_results/miniboone_signal_chain_4_bins_free.dat',unpack=True)\n",
    "\n",
    "\n",
    "filtered_mcmc_4bins_free = mcmc_signal.filter_samples(mcmc_4bins_free)\n",
    "filtered_mcmc_10bins_free = mcmc_signal.filter_samples(mcmc_10bins_free)\n",
    "filtered_mcmc_11bins_free = mcmc_signal.filter_samples(mcmc_11bins_free)"
   ]
  },
  {
   "cell_type": "code",
   "execution_count": 57,
   "id": "narrative-oregon",
   "metadata": {},
   "outputs": [
    {
     "name": "stdout",
     "output_type": "stream",
     "text": [
      "free:  0.0\n",
      "free:  1.0\n",
      "free:  0.19761818181818183\n",
      "\n",
      "normed:  0.0\n",
      "normed:  0.33772\n",
      "normed:  0.17608181818181817\n"
     ]
    }
   ],
   "source": [
    "print(\"free: \", np.shape(filtered_mcmc_4bins_free)[1]/np.shape(mcmc_4bins_free)[1])\n",
    "print(\"free: \", np.shape(filtered_mcmc_10bins_free)[1]/np.shape(mcmc_10bins_free)[1])\n",
    "print(\"free: \", np.shape(filtered_mcmc_11bins_free)[1]/np.shape(mcmc_11bins_free)[1])\n",
    "\n",
    "print(\"\\nnormed: \", np.shape(filtered_mcmc_4bins_norm)[1]/np.shape(mcmc_4bins_norm)[1])\n",
    "print(\"normed: \", np.shape(filtered_mcmc_10bins_norm)[1]/np.shape(mcmc_10bins_norm)[1])\n",
    "print(\"normed: \", np.shape(filtered_mcmc_11bins_norm)[1]/np.shape(mcmc_11bins_norm)[1])"
   ]
  },
  {
   "cell_type": "markdown",
   "id": "confirmed-exclusive",
   "metadata": {},
   "source": [
    "### total number of excess events in each tempalte"
   ]
  },
  {
   "cell_type": "code",
   "execution_count": 97,
   "id": "multiple-spectrum",
   "metadata": {},
   "outputs": [],
   "source": [
    "nevents_11bins_norm = np.sum(mcmc_11bins_norm,axis=0)\n",
    "nevents_10bins_norm = np.sum(mcmc_10bins_norm,axis=0)\n",
    "nevents_4bins_norm = np.sum(mcmc_4bins_norm,axis=0)\n",
    "\n",
    "filtered_nevents_11bins_norm = np.sum(filtered_mcmc_11bins_norm,axis=0)\n",
    "filtered_nevents_10bins_norm = np.sum(filtered_mcmc_10bins_norm,axis=0)\n",
    "filtered_nevents_4bins_norm = np.sum(filtered_mcmc_4bins_norm,axis=0)\n",
    "\n",
    "\n",
    "nevents_11bins_free = np.sum(mcmc_11bins_free,axis=0)\n",
    "nevents_10bins_free = np.sum(mcmc_10bins_free,axis=0)\n",
    "nevents_4bins_free = np.sum(mcmc_4bins_free,axis=0)\n",
    "\n",
    "filtered_nevents_11bins_free = np.sum(filtered_mcmc_11bins_free,axis=0)\n",
    "filtered_nevents_10bins_free = np.sum(filtered_mcmc_10bins_free,axis=0)\n",
    "filtered_nevents_4bins_free = np.sum(filtered_mcmc_4bins_free,axis=0)"
   ]
  },
  {
   "cell_type": "markdown",
   "id": "introductory-aaron",
   "metadata": {},
   "source": [
    "### average energy of the template"
   ]
  },
  {
   "cell_type": "code",
   "execution_count": 98,
   "id": "banned-afghanistan",
   "metadata": {},
   "outputs": [],
   "source": [
    "avg_energy_4bins_norm = np.sum((mcmc_4bins_norm.T*mbfit.bin_centers).T/nevents_4bins_norm,axis=0)\n",
    "avg_energy_10bins_norm = np.sum((mcmc_10bins_norm.T*mbfit.bin_centers).T/nevents_10bins_norm,axis=0)\n",
    "avg_energy_11bins_norm = np.sum((mcmc_11bins_norm.T*mbfit.bin_centers).T/nevents_11bins_norm,axis=0)\n",
    "\n",
    "filtered_avg_energy_4bins_norm = np.sum((filtered_mcmc_4bins_norm.T*mbfit.bin_centers).T/filtered_nevents_4bins_norm,axis=0)\n",
    "filtered_avg_energy_10bins_norm = np.sum((filtered_mcmc_10bins_norm.T*mbfit.bin_centers).T/filtered_nevents_10bins_norm,axis=0)\n",
    "filtered_avg_energy_11bins_norm = np.sum((filtered_mcmc_11bins_norm.T*mbfit.bin_centers).T/filtered_nevents_11bins_norm,axis=0)\n",
    "\n",
    "\n",
    "avg_energy_4bins_free = np.sum((mcmc_4bins_free.T*mbfit.bin_centers).T/nevents_4bins_free,axis=0)\n",
    "avg_energy_10bins_free = np.sum((mcmc_10bins_free.T*mbfit.bin_centers).T/nevents_10bins_free,axis=0)\n",
    "avg_energy_11bins_free = np.sum((mcmc_11bins_free.T*mbfit.bin_centers).T/nevents_11bins_free,axis=0)\n",
    "\n",
    "filtered_avg_energy_4bins_free = np.sum((filtered_mcmc_4bins_free.T*mbfit.bin_centers).T/filtered_nevents_4bins_free,axis=0)\n",
    "filtered_avg_energy_10bins_free = np.sum((filtered_mcmc_10bins_free.T*mbfit.bin_centers).T/filtered_nevents_10bins_free,axis=0)\n",
    "filtered_avg_energy_11bins_free = np.sum((filtered_mcmc_11bins_free.T*mbfit.bin_centers).T/filtered_nevents_11bins_free,axis=0)"
   ]
  },
  {
   "cell_type": "markdown",
   "id": "bridal-tumor",
   "metadata": {},
   "source": [
    "## time lapse of mcmc"
   ]
  },
  {
   "cell_type": "code",
   "execution_count": 99,
   "id": "detected-negotiation",
   "metadata": {},
   "outputs": [
    {
     "data": {
      "image/png": "[encoded data removed]",
      "text/plain": [
       "<Figure size 319.68x221.055 with 1 Axes>"
      ]
     },
     "metadata": {
      "needs_background": "light"
     },
     "output_type": "display_data"
    }
   ],
   "source": [
    "fig,ax = plot_tools.std_fig()\n",
    "\n",
    "ax.plot(nevents_11bins_free, label='11 bins', alpha=0.7)\n",
    "ax.plot(nevents_10bins_free, label='10 bins', alpha=0.7)\n",
    "ax.plot(nevents_4bins_free, label='4 bins', alpha=0.7)\n",
    "ax.legend()\n",
    "ax.set_xlabel(\"location\")\n",
    "ax.set_ylabel(\"total number of events\")\n",
    "ax.set_yscale('log')\n",
    "ax.set_title(\"time lapse for all samples\")\n",
    "fig.savefig(\"../mcmc_results/time_lapse_free.png\", dpi=400)"
   ]
  },
  {
   "cell_type": "code",
   "execution_count": 100,
   "id": "unknown-model",
   "metadata": {},
   "outputs": [
    {
     "data": {
      "image/png": "[encoded data removed]",
      "text/plain": [
       "<Figure size 319.68x221.055 with 1 Axes>"
      ]
     },
     "metadata": {
      "needs_background": "light"
     },
     "output_type": "display_data"
    }
   ],
   "source": [
    "fig,ax = plot_tools.std_fig()\n",
    "\n",
    "ax.plot(nevents_11bins_norm, label='11 bins', alpha=0.7)\n",
    "ax.plot(nevents_10bins_norm, label='10 bins', alpha=0.7)\n",
    "ax.plot(nevents_4bins_norm, label='4 bins', alpha=0.7)\n",
    "ax.legend()\n",
    "ax.set_xlabel(\"location\")\n",
    "ax.set_ylabel(\"total number of events\")\n",
    "ax.set_yscale('log')\n",
    "ax.set_title(\"time lapse for all samples\")\n",
    "fig.savefig(\"../mcmc_results/time_lapse_norm.png\", dpi=400)"
   ]
  },
  {
   "cell_type": "code",
   "execution_count": 101,
   "id": "breathing-grade",
   "metadata": {},
   "outputs": [
    {
     "data": {
      "image/png": "[encoded data removed]",
      "text/plain": [
       "<Figure size 319.68x221.055 with 1 Axes>"
      ]
     },
     "metadata": {
      "needs_background": "light"
     },
     "output_type": "display_data"
    }
   ],
   "source": [
    "fig,ax = plot_tools.std_fig()\n",
    "\n",
    "ax.plot(filtered_nevents_11bins_free, label='11 bins', alpha=0.7)\n",
    "ax.plot(filtered_nevents_10bins_free, label='10 bins', alpha=0.7)\n",
    "ax.plot(filtered_nevents_4bins_free, label='4 bins', alpha=1, zorder=10)\n",
    "ax.legend()\n",
    "ax.set_title(r\"time lapse for samples w/ $p_{\\rm val}>40\\%$\")\n",
    "fig.savefig(\"../mcmc_results/time_lapse_free.png\", dpi=400)"
   ]
  },
  {
   "cell_type": "code",
   "execution_count": 102,
   "id": "executive-retreat",
   "metadata": {},
   "outputs": [
    {
     "data": {
      "image/png": "[encoded data removed]",
      "text/plain": [
       "<Figure size 319.68x221.055 with 1 Axes>"
      ]
     },
     "metadata": {
      "needs_background": "light"
     },
     "output_type": "display_data"
    }
   ],
   "source": [
    "fig,ax = plot_tools.std_fig()\n",
    "\n",
    "ax.plot(filtered_nevents_11bins_norm, label='11 bins', alpha=0.7)\n",
    "ax.plot(filtered_nevents_10bins_norm, label='10 bins', alpha=0.7)\n",
    "ax.plot(filtered_nevents_4bins_norm, label='4 bins', alpha=1, zorder=10)\n",
    "ax.legend()\n",
    "ax.set_title(r\"time lapse for samples w/ $p_{\\rm val}>40\\%$\")\n",
    "fig.savefig(\"../mcmc_results/time_lapse_norm.png\", dpi=400)"
   ]
  },
  {
   "cell_type": "markdown",
   "id": "loved-corps",
   "metadata": {},
   "source": [
    "## Distribution of excess events"
   ]
  },
  {
   "cell_type": "code",
   "execution_count": 103,
   "id": "important-wrestling",
   "metadata": {
    "scrolled": true
   },
   "outputs": [
    {
     "name": "stdout",
     "output_type": "stream",
     "text": [
      "359.87462199999993\n"
     ]
    },
    {
     "data": {
      "image/png": "[encoded data removed]",
      "text/plain": [
       "<Figure size 319.68x221.055 with 1 Axes>"
      ]
     },
     "metadata": {
      "needs_background": "light"
     },
     "output_type": "display_data"
    }
   ],
   "source": [
    "fig, ax = plot_tools.std_fig()\n",
    "\n",
    "\n",
    "XMIN = 0\n",
    "XMAX = 4\n",
    "\n",
    "tot_excess_LEE=np.sum(MB_LEE)\n",
    "print(tot_excess_LEE)\n",
    "\n",
    "\n",
    "_=ax.hist(nevents_11bins_norm/tot_excess_LEE, range=(XMIN,XMAX), bins=100, label=r'11-bin fit',\n",
    "          facecolor='None', edgecolor='dodgerblue', density=True)\n",
    "_=ax.hist(nevents_10bins_norm/tot_excess_LEE, range=(XMIN,XMAX), bins=100, label=r'10-bin fit',\n",
    "          facecolor='None', edgecolor='darkorange', density=True)\n",
    "_=ax.hist(nevents_4bins_norm/tot_excess_LEE, range=(XMIN,XMAX), bins=100, label=r'4-bin fit',\n",
    "          facecolor='None', edgecolor='violet', density=True)\n",
    "\n",
    "ax.legend()\n",
    "ax.set_xlabel(r\"(tot excess in new template)/(tot excess nominal)\")\n",
    "ax.set_ylabel(r\"pdf\")\n",
    "ax.set_xlim(XMIN,XMAX)\n",
    "fig.savefig(f'{PATH_PLOTS}/histogram_nevents.png', dpi=400)\n",
    "\n"
   ]
  },
  {
   "cell_type": "code",
   "execution_count": 52,
   "id": "clean-decline",
   "metadata": {
    "scrolled": true
   },
   "outputs": [
    {
     "name": "stderr",
     "output_type": "stream",
     "text": [
      "/usr/local/lib/python3.9/site-packages/numpy/lib/histograms.py:905: RuntimeWarning: invalid value encountered in true_divide\n",
      "  return n/db/n.sum(), bin_edges\n"
     ]
    },
    {
     "data": {
      "image/png": "[encoded data removed]",
      "text/plain": [
       "<Figure size 319.68x221.055 with 1 Axes>"
      ]
     },
     "metadata": {
      "needs_background": "light"
     },
     "output_type": "display_data"
    }
   ],
   "source": [
    "fig, ax = plot_tools.std_fig()\n",
    "\n",
    "\n",
    "XMIN = 0\n",
    "XMAX = 4\n",
    "\n",
    "_=ax.hist(filtered_nevents_11bins_norm/tot_excess_LEE, range=(XMIN,XMAX), bins=100, label=r'11-bin fit ($p_{\\rm val} > 0.40$)',\n",
    "          facecolor='None', edgecolor='dodgerblue', density=True)\n",
    "_=ax.hist(filtered_nevents_10bins_norm/tot_excess_LEE, range=(XMIN,XMAX), bins=100, label=r'10-bin fit ($p_{\\rm val} > 0.40$)',\n",
    "          facecolor='None', edgecolor='darkorange', density=True)\n",
    "_=ax.hist(filtered_nevents_4bins_norm/tot_excess_LEE, range=(XMIN,XMAX), bins=100, label=r'4-bin fit ($p_{\\rm val} > 0.40$)',\n",
    "          facecolor='None', edgecolor='violet', density=True)\n",
    "\n",
    "\n",
    "ax.legend()\n",
    "ax.set_xlabel(r\"($\\langle E_\\nu \\rangle$ in new template)/($\\langle E_\\nu \\rangle$ nominal)\")\n",
    "ax.set_ylabel(r\"pdf\")\n",
    "ax.set_xlim(XMIN,XMAX)\n",
    "fig.savefig(f'{PATH_PLOTS}/histogram_nevents_filtered.png', dpi=400)\n",
    "\n"
   ]
  },
  {
   "cell_type": "markdown",
   "id": "imported-pension",
   "metadata": {},
   "source": [
    "### histogram average energy"
   ]
  },
  {
   "cell_type": "code",
   "execution_count": 104,
   "id": "warming-adult",
   "metadata": {},
   "outputs": [
    {
     "name": "stdout",
     "output_type": "stream",
     "text": [
      "374.83741500810805\n"
     ]
    },
    {
     "data": {
      "image/png": "[encoded data removed]",
      "text/plain": [
       "<Figure size 319.68x221.055 with 1 Axes>"
      ]
     },
     "metadata": {
      "needs_background": "light"
     },
     "output_type": "display_data"
    }
   ],
   "source": [
    "fig, ax = plot_tools.std_fig()\n",
    "\n",
    "\n",
    "XMIN = 0\n",
    "XMAX = 3\n",
    "\n",
    "avg_energy_LEE=np.sum(MB_LEE*mbfit.bin_centers)/np.sum(MB_LEE)\n",
    "print(avg_energy_LEE)\n",
    "\n",
    "\n",
    "_=ax.hist(avg_energy_11bins_free/avg_energy_LEE, range=(XMIN,XMAX), bins=100, label=r'11-bin fit',\n",
    "          facecolor='None', edgecolor='dodgerblue', density=True)\n",
    "# _=ax.hist(avg_energy_10bins_free/avg_energy_LEE, range=(XMIN,XMAX), bins=100, label=r'10-bin fit',\n",
    "#           facecolor='None', edgecolor='darkorange', density=True)\n",
    "# _=ax.hist(avg_energy_4bins_free/avg_energy_LEE, range=(XMIN,XMAX), bins=100, label=r'4-bin fit',\n",
    "#           facecolor='None', edgecolor='violet', density=True)\n",
    "\n",
    "ax.legend()\n",
    "ax.set_xlabel(r\"(tot excess in new template)/(tot excess nominal)\")\n",
    "ax.set_ylabel(r\"pdf\")\n",
    "ax.set_xlim(XMIN,XMAX)\n",
    "fig.savefig(f'{PATH_PLOTS}/histogram_avg_enu_free.png', dpi=400)\n",
    "\n"
   ]
  },
  {
   "cell_type": "code",
   "execution_count": 37,
   "id": "framed-crash",
   "metadata": {},
   "outputs": [
    {
     "name": "stdout",
     "output_type": "stream",
     "text": [
      "374.83741500810805\n"
     ]
    },
    {
     "name": "stderr",
     "output_type": "stream",
     "text": [
      "/usr/local/lib/python3.9/site-packages/numpy/lib/histograms.py:905: RuntimeWarning: invalid value encountered in true_divide\n",
      "  return n/db/n.sum(), bin_edges\n"
     ]
    },
    {
     "data": {
      "image/png": "[encoded data removed]",
      "text/plain": [
       "<Figure size 319.68x221.055 with 1 Axes>"
      ]
     },
     "metadata": {
      "needs_background": "light"
     },
     "output_type": "display_data"
    }
   ],
   "source": [
    "fig, ax = plot_tools.std_fig()\n",
    "\n",
    "\n",
    "XMIN = 0\n",
    "XMAX = 3\n",
    "\n",
    "avg_energy_LEE=np.sum(MB_LEE*mbfit.bin_centers)/np.sum(MB_LEE)\n",
    "print(avg_energy_LEE)\n",
    "\n",
    "\n",
    "_=ax.hist(filtered_avg_energy_11bins_free/avg_energy_LEE, range=(XMIN,XMAX), bins=100, label=r'11-bin fit',\n",
    "          facecolor='None', edgecolor='dodgerblue', density=True)\n",
    "_=ax.hist(filtered_avg_energy_10bins_free/avg_energy_LEE, range=(XMIN,XMAX), bins=100, label=r'10-bin fit',\n",
    "          facecolor='None', edgecolor='darkorange', density=True)\n",
    "_=ax.hist(filtered_avg_energy_4bins_free/avg_energy_LEE, range=(XMIN,XMAX), bins=100, label=r'4-bin fit',\n",
    "          facecolor='None', edgecolor='violet', density=True)\n",
    "\n",
    "ax.legend()\n",
    "ax.set_xlabel(r\"($\\langle E_\\nu \\rangle$ in new template)/($\\langle E_\\nu \\rangle$ nominal)\")\n",
    "ax.set_ylabel(r\"pdf\")\n",
    "ax.set_xlim(XMIN,XMAX)\n",
    "fig.savefig(f'{PATH_PLOTS}/histogram_avg_enu_filtered_free.png', dpi=400)\n",
    "\n"
   ]
  },
  {
   "cell_type": "code",
   "execution_count": 38,
   "id": "composite-homework",
   "metadata": {},
   "outputs": [
    {
     "name": "stdout",
     "output_type": "stream",
     "text": [
      "374.83741500810805\n"
     ]
    },
    {
     "data": {
      "image/png": "[encoded data removed]",
      "text/plain": [
       "<Figure size 319.68x221.055 with 1 Axes>"
      ]
     },
     "metadata": {
      "needs_background": "light"
     },
     "output_type": "display_data"
    }
   ],
   "source": [
    "fig, ax = plot_tools.std_fig()\n",
    "\n",
    "\n",
    "XMIN = 0\n",
    "XMAX = 3\n",
    "\n",
    "avg_energy_LEE=np.sum(MB_LEE*mbfit.bin_centers)/np.sum(MB_LEE)\n",
    "print(avg_energy_LEE)\n",
    "\n",
    "\n",
    "_=ax.hist(avg_energy_11bins_norm/avg_energy_LEE, range=(XMIN,XMAX), bins=100, label=r'11-bin fit',\n",
    "          facecolor='None', edgecolor='dodgerblue', density=True)\n",
    "_=ax.hist(avg_energy_10bins_norm/avg_energy_LEE, range=(XMIN,XMAX), bins=100, label=r'10-bin fit',\n",
    "          facecolor='None', edgecolor='darkorange', density=True)\n",
    "_=ax.hist(avg_energy_4bins_norm/avg_energy_LEE, range=(XMIN,XMAX), bins=100, label=r'4-bin fit',\n",
    "          facecolor='None', edgecolor='violet', density=True)\n",
    "\n",
    "ax.legend()\n",
    "ax.set_xlabel(r\"(tot excess in new template)/(tot excess nominal)\")\n",
    "ax.set_ylabel(r\"pdf\")\n",
    "ax.set_xlim(XMIN,XMAX)\n",
    "fig.savefig(f'{PATH_PLOTS}/histogram_avg_enu_norm.png', dpi=400)\n",
    "\n"
   ]
  },
  {
   "cell_type": "code",
   "execution_count": 39,
   "id": "optional-lawrence",
   "metadata": {},
   "outputs": [
    {
     "name": "stdout",
     "output_type": "stream",
     "text": [
      "374.83741500810805\n"
     ]
    },
    {
     "data": {
      "image/png": "[encoded data removed]",
      "text/plain": [
       "<Figure size 319.68x221.055 with 1 Axes>"
      ]
     },
     "metadata": {
      "needs_background": "light"
     },
     "output_type": "display_data"
    }
   ],
   "source": [
    "fig, ax = plot_tools.std_fig()\n",
    "\n",
    "\n",
    "XMIN = 0\n",
    "XMAX = 3\n",
    "\n",
    "avg_energy_LEE=np.sum(MB_LEE*mbfit.bin_centers)/np.sum(MB_LEE)\n",
    "print(avg_energy_LEE)\n",
    "\n",
    "\n",
    "_=ax.hist(filtered_avg_energy_11bins_norm/avg_energy_LEE, range=(XMIN,XMAX), bins=100, label=r'11-bin fit',\n",
    "          facecolor='None', edgecolor='dodgerblue', density=True)\n",
    "_=ax.hist(filtered_avg_energy_10bins_norm/avg_energy_LEE, range=(XMIN,XMAX), bins=100, label=r'10-bin fit',\n",
    "          facecolor='None', edgecolor='darkorange', density=True)\n",
    "_=ax.hist(filtered_avg_energy_4bins_norm/avg_energy_LEE, range=(XMIN,XMAX), bins=100, label=r'4-bin fit',\n",
    "          facecolor='None', edgecolor='violet', density=True)\n",
    "\n",
    "ax.legend()\n",
    "ax.set_xlabel(r\"($\\langle E_\\nu \\rangle$ in new template)/($\\langle E_\\nu \\rangle$ nominal)\")\n",
    "ax.set_ylabel(r\"pdf\")\n",
    "ax.set_xlim(XMIN,XMAX)\n",
    "fig.savefig(f'{PATH_PLOTS}/histogram_avg_enu_filtered_norm.png', dpi=400)\n"
   ]
  },
  {
   "cell_type": "markdown",
   "id": "wrong-export",
   "metadata": {},
   "source": [
    "### define a function that gets the n highest energy templates (largest <Enu>)"
   ]
  },
  {
   "cell_type": "markdown",
   "id": "elder-emergency",
   "metadata": {},
   "source": [
    "## Plot tempates side by side with LEE"
   ]
  },
  {
   "cell_type": "code",
   "execution_count": null,
   "id": "shaped-onion",
   "metadata": {},
   "outputs": [],
   "source": []
  },
  {
   "cell_type": "code",
   "execution_count": 60,
   "id": "original-discretion",
   "metadata": {},
   "outputs": [
    {
     "data": {
      "image/png": "[encoded data removed]",
      "text/plain": [
       "<Figure size 319.68x221.055 with 1 Axes>"
      ]
     },
     "metadata": {
      "needs_background": "light"
     },
     "output_type": "display_data"
    }
   ],
   "source": [
    "fig, ax = plot_tools.std_fig()\n",
    "units = mbfit.bin_width\n",
    "# plot data\n",
    "plot_tools.data_plot(ax, \n",
    "          X=mbfit.bin_centers,\n",
    "          Y=(mbfit.mb_nue_analysis_data-mbfit.mb_nue_analysis_predicted_background)/mbfit.bin_width*units, \n",
    "          xerr=np.diff(mbfit.bin_edges)/2, \n",
    "          yerr=np.sqrt(mbfit.mb_nue_analysis_data)/mbfit.bin_width, label='',\n",
    "            zorder=1)\n",
    "\n",
    "# # plot signal\n",
    "MB_LEE = mbfit.mb_nue_analysis_data - mbfit.mb_nue_analysis_predicted_background\n",
    "plot_tools.step_plot(ax, \n",
    "              x=mbfit.bin_edges[:-1],\n",
    "              y=(MB_LEE)/mbfit.bin_width*units,\n",
    "              color='black',\n",
    "              label='nominal template')\n",
    "\n",
    "\n",
    "# Loop over mcmc templates\n",
    "mcmc_templates = filtered_mcmc_10bins_norm\n",
    "n=500\n",
    "color = iter(cm.summer(np.linspace(0, 1, n)))\n",
    "for i_template in np.random.choice(np.shape(mcmc_templates)[1], size=n):\n",
    "    template = mcmc_templates[:,i_template]\n",
    "    c = next(color)\n",
    "    plot_tools.step_plot(ax,\n",
    "                  x=mbfit.bin_edges[:-1],\n",
    "                  y=(template)/mbfit.bin_width*units,\n",
    "                  color=c,  lw=1.5,\n",
    "                  label='')\n",
    "#                   label=fr\"\\#${i_template}$, $p_{{\\rm val}} = {get_pvalue(template):.2g}$\")\n",
    "\n",
    "ax.legend()\n",
    "ax.set_xlabel(r\"$E^{\\rm QE-reco}_\\nu/{\\rm MeV}$\")\n",
    "ax.set_ylabel(r\"Excess events/MeV\")\n",
    "ax.set_xlim(200.0,2e3)\n",
    "ax.hlines(0,0,2e3, lw=0.75, ls='--', color='black')\n",
    "# ax.set_ylim(-0.1,2)\n",
    "\n",
    "fig.savefig(f'{PATH_PLOTS}/mcmc_templates_10bins.png', dpi=400)\n",
    "fig.savefig(f'{PATH_PLOTS}/mcmc_templates.pdf', dpi=400)"
   ]
  },
  {
   "cell_type": "markdown",
   "id": "amazing-component",
   "metadata": {},
   "source": [
    "### Now plot only the highest energy ones"
   ]
  },
  {
   "cell_type": "code",
   "execution_count": 55,
   "id": "unlike-gardening",
   "metadata": {},
   "outputs": [
    {
     "data": {
      "image/png": "[encoded data removed]",
      "text/plain": [
       "<Figure size 319.68x221.055 with 1 Axes>"
      ]
     },
     "metadata": {
      "needs_background": "light"
     },
     "output_type": "display_data"
    }
   ],
   "source": [
    "fig, ax = plot_tools.std_fig()\n",
    "\n",
    "# plot data\n",
    "plot_tools.data_plot(ax, \n",
    "          X=mbfit.bin_centers,\n",
    "          Y=(mbfit.mb_nue_analysis_data-mbfit.mb_nue_analysis_predicted_background)/mbfit.bin_width, \n",
    "          xerr=np.diff(mbfit.bin_edges)/2, \n",
    "          yerr=np.sqrt(mbfit.mb_nue_analysis_data)/mbfit.bin_width,\n",
    "            zorder=1)\n",
    "\n",
    "# # plot signal\n",
    "MB_LEE = mbfit.mb_nue_analysis_data - mbfit.mb_nue_analysis_predicted_background\n",
    "plot_tools.step_plot(ax, \n",
    "              x=mbfit.bin_edges[:-1],\n",
    "              y=(MB_LEE)/mbfit.bin_width,\n",
    "              color='black',\n",
    "              label='nominal template')\n",
    "\n",
    "\n",
    "# Loop over mcmc templates\n",
    "mcmc_templates = filtered_mcmc_11bins\n",
    "n=6\n",
    "color = iter(cm.Set3(np.linspace(0, 1, n)))\n",
    "for i, template in enumerate(mcmc_templates.T[:n]):\n",
    "    c = next(color)\n",
    "    plot_tools.step_plot(ax,\n",
    "                  x=mbfit.bin_edges[:-1],\n",
    "                  y=(template)/mbfit.bin_width,\n",
    "                  color=c,  lw=1.5,\n",
    "                  label=fr\"\\#template {i} ($p_{{\\rm val}} = {get_pvalue(template):.2g}$)\")\n",
    "\n",
    "\n",
    "ax.legend()\n",
    "ax.set_xlabel(r\"$E^{\\rm QE-reco}_\\nu/{\\rm MeV}$\")\n",
    "ax.set_ylabel(r\"Excess events/MeV\")\n",
    "ax.set_xlim(200.0,2e3)\n",
    "ax.hlines(0,0,2e3, lw=0.75, ls='--', color='black')\n",
    "ax.set_ylim(-0.1,1.65)\n",
    "\n",
    "fig.savefig(f'{PATH_PLOTS}/mcmc_templates_11bins_maxenu.png', dpi=400)"
   ]
  },
  {
   "cell_type": "code",
   "execution_count": null,
   "id": "drawn-gnome",
   "metadata": {},
   "outputs": [],
   "source": []
  }
 ],
 "metadata": {
  "kernelspec": {
   "display_name": "Python 3",
   "language": "python",
   "name": "python3"
  },
  "language_info": {
   "codemirror_mode": {
    "name": "ipython",
    "version": 3
   },
   "file_extension": ".py",
   "mimetype": "text/x-python",
   "name": "python",
   "nbconvert_exporter": "python",
   "pygments_lexer": "ipython3",
   "version": "3.9.5"
  }
 },
 "nbformat": 4,
 "nbformat_minor": 5
}
