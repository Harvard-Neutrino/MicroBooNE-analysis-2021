{
 "cells": [
  {
   "cell_type": "code",
   "execution_count": 1,
   "id": "forward-slovenia",
   "metadata": {},
   "outputs": [],
   "source": [
    "%load_ext autoreload\n",
    "%autoreload 2\n",
    "\n",
    "import numpy as np\n",
    "import pandas as pd\n",
    "import scipy \n",
    "\n",
    "from MicroTools import unfolder\n",
    "from MicroTools.TemplateTools import mcmc_signal\n",
    "from MicroTools.TemplateTools import miniboone_fit as mbfit\n",
    "\n",
    "from MicroTools.InclusiveTools import inclusive\n",
    "\n",
    "\n",
    "from MicroTools.TemplateTools import template_analysis as templ\n",
    "\n",
    "from MicroTools.plot_tools import *\n",
    "\n",
    "PATH_MCMC_CHAINS = 'MicroTools/mcmc_results'\n",
    "PATH_PLOTS = 'plots/'"
   ]
  },
  {
   "cell_type": "code",
   "execution_count": 73,
   "id": "widespread-wealth",
   "metadata": {},
   "outputs": [],
   "source": [
    "import yaml\n",
    "NEW_DATA_RELEASE_PATH = 'MicroTools/muB_data/inclusive_data/DataRelease_v2/'\n",
    "\n",
    "with open(f\"{NEW_DATA_RELEASE_PATH}/nueCC_FC_eff.yaml\", \"r\") as stream:\n",
    "    try:\n",
    "        data = yaml.safe_load(stream)\n",
    "    except yaml.YAMLError as exc:\n",
    "        print(exc)\n",
    "        \n",
    "with open(f\"{NEW_DATA_RELEASE_PATH}/nueCC_PC_eff.yaml\", \"r\") as stream:\n",
    "    try:\n",
    "        data_PC = yaml.safe_load(stream)\n",
    "    except yaml.YAMLError as exc:\n",
    "        print(exc)"
   ]
  },
  {
   "cell_type": "code",
   "execution_count": null,
   "id": "ceramic-pharmacology",
   "metadata": {},
   "outputs": [],
   "source": [
    "eff_src = data['dependent_variables'][0]['values']\n",
    "enu_src = data['independent_variables'][0]['values']\n",
    "eff = []\n",
    "enu_c =[]\n",
    "for enu,val in zip(enu_src,eff_src):\n",
    "    enu_c.append((enu['low'] + enu['high'])/2)    \n",
    "    eff.append(val['value'])"
   ]
  },
  {
   "cell_type": "code",
   "execution_count": 75,
   "id": "homeless-adventure",
   "metadata": {},
   "outputs": [],
   "source": [
    "eff_src_PC = data_PC['dependent_variables'][0]['values']\n",
    "enu_src_PC = data_PC['independent_variables'][0]['values']\n",
    "eff_PC = []\n",
    "enu_c_PC =[]\n",
    "for enu_PC,val_PC in zip(enu_src_PC,eff_src_PC):\n",
    "    enu_c_PC.append((enu_PC['low'] + enu_PC['high'])/2)    \n",
    "    eff_PC.append(val_PC['value'])"
   ]
  },
  {
   "cell_type": "code",
   "execution_count": 80,
   "id": "inner-dublin",
   "metadata": {},
   "outputs": [
    {
     "data": {
      "text/plain": [
       "<matplotlib.legend.Legend at 0x120d01fa0>"
      ]
     },
     "execution_count": 80,
     "metadata": {},
     "output_type": "execute_result"
    },
    {
     "data": {
      "image/png": "[encoded data removed]",
      "text/plain": [
       "<Figure size 319.68x221.055 with 1 Axes>"
      ]
     },
     "metadata": {
      "needs_background": "light"
     },
     "output_type": "display_data"
    }
   ],
   "source": [
    "bin_edges_true = np.array([200, 250, 300, 350, 400, 450, 500, 600, 800, 1000, 1500, 2000, 2500, 3000]) # Bin edges after unfolding [MeV]\n",
    "\n",
    "our_bin_c = (bin_edges_true[1:] + bin_edges_true[:-1])/2*1e-3\n",
    "\n",
    "our_efficiency_PC = np.array([0.01514732, 0.03039166, 0.06088035, 0.09020686, 0.11837119, 0.15031587,\n",
    "                             0.20390339, 0.30090062, 0.44590193, 0.60864919, 0.80104988, 0.89476233,\n",
    "                             0.9417476])\n",
    "our_efficiency = np.array([0.50314466, 0.54882715, 0.64019214, 0.72976845, 0.81755608, 0.90826832,\n",
    "                             1.04872359, 1.15368084, 1.22829937, 1.21671845, 1.18336647, 1.03151614,\n",
    "                             0.90760706])\n",
    "\n",
    "\n",
    "\n",
    "plt.plot(enu_c, eff,label='data release FC', color='black')\n",
    "plt.plot(enu_c_PC, eff_PC,label='data release PC', color='orange')\n",
    "\n",
    "\n",
    "plt.plot(our_bin_c, our_efficiency,label='ours FC', ls='--', color='black')\n",
    "plt.plot(our_bin_c, our_efficiency_PC,label='ours PC', ls='--', color='orange')\n",
    "plt.xlabel(r\"$E_\\nu$/GeV\")\n",
    "plt.ylabel(r\"efficiency\")\n",
    "plt.plot()\n",
    "plt.legend()\n"
   ]
  },
  {
   "cell_type": "code",
   "execution_count": null,
   "id": "defensive-fundamental",
   "metadata": {},
   "outputs": [],
   "source": []
  },
  {
   "cell_type": "code",
   "execution_count": 64,
   "id": "announced-express",
   "metadata": {},
   "outputs": [],
   "source": [
    "smearing_matrix_microB = np.loadtxt(f\"MicroTools/muB_data/unfolding_data/Migration_1eX_PC.txt\")\n",
    "our_eff_smear = np.sum(smearing_matrix_microB, axis=0)"
   ]
  },
  {
   "cell_type": "code",
   "execution_count": 67,
   "id": "exposed-textbook",
   "metadata": {},
   "outputs": [
    {
     "data": {
      "text/plain": [
       "[<matplotlib.lines.Line2D at 0x1208e3130>]"
      ]
     },
     "execution_count": 67,
     "metadata": {},
     "output_type": "execute_result"
    },
    {
     "data": {
      "image/png": "[encoded data removed]",
      "text/plain": [
       "<Figure size 319.68x221.055 with 1 Axes>"
      ]
     },
     "metadata": {
      "needs_background": "light"
     },
     "output_type": "display_data"
    }
   ],
   "source": [
    "plt.plot(our_eff_smear,marker='o')"
   ]
  },
  {
   "cell_type": "code",
   "execution_count": null,
   "id": "flush-gibson",
   "metadata": {},
   "outputs": [],
   "source": []
  }
 ],
 "metadata": {
  "kernelspec": {
   "display_name": "base",
   "language": "python",
   "name": "python3"
  },
  "language_info": {
   "codemirror_mode": {
    "name": "ipython",
    "version": 3
   },
   "file_extension": ".py",
   "mimetype": "text/x-python",
   "name": "python",
   "nbconvert_exporter": "python",
   "pygments_lexer": "ipython3",
   "version": "3.9.12 (main, Apr  5 2022, 01:53:17) \n[Clang 12.0.0 ]"
  },
  "vscode": {
   "interpreter": {
    "hash": "3067ead486e059ec00ffe7555bdb889e6e264a24dc711bf108106cc7baee8d5d"
   }
  }
 },
 "nbformat": 4,
 "nbformat_minor": 5
}
